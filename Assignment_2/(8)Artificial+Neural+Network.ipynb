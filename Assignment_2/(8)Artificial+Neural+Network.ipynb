{
 "cells": [
  {
   "cell_type": "code",
   "execution_count": 2,
   "metadata": {},
   "outputs": [
    {
     "name": "stdout",
     "output_type": "stream",
     "text": [
      "Requirement already satisfied: boruta in c:\\users\\hp\\anaconda32\\lib\\site-packages\n",
      "Requirement already satisfied: scikit-learn>=0.17.1 in c:\\users\\hp\\anaconda32\\lib\\site-packages (from boruta)\n",
      "Requirement already satisfied: scipy>=0.17.0 in c:\\users\\hp\\anaconda32\\lib\\site-packages (from boruta)\n",
      "Requirement already satisfied: numpy>=1.10.4 in c:\\users\\hp\\anaconda32\\lib\\site-packages (from boruta)\n"
     ]
    }
   ],
   "source": [
    "!pip install boruta"
   ]
  },
  {
   "cell_type": "code",
   "execution_count": 28,
   "metadata": {},
   "outputs": [],
   "source": [
    "## imporing the librarires\n",
    "import numpy as np\n",
    "import matplotlib.pyplot as plt\n",
    "import pandas as pd\n",
    "from matplotlib.pylab import rcParams\n",
    "from tpot import TPOTRegressor\n",
    "from sklearn.neural_network import MLPRegressor\n",
    "from sklearn.model_selection import train_test_split\n",
    "from boruta import BorutaPy"
   ]
  },
  {
   "cell_type": "code",
   "execution_count": 12,
   "metadata": {},
   "outputs": [
    {
     "data": {
      "text/html": [
       "<div>\n",
       "<style>\n",
       "    .dataframe thead tr:only-child th {\n",
       "        text-align: right;\n",
       "    }\n",
       "\n",
       "    .dataframe thead th {\n",
       "        text-align: left;\n",
       "    }\n",
       "\n",
       "    .dataframe tbody tr th {\n",
       "        vertical-align: top;\n",
       "    }\n",
       "</style>\n",
       "<table border=\"1\" class=\"dataframe\">\n",
       "  <thead>\n",
       "    <tr style=\"text-align: right;\">\n",
       "      <th></th>\n",
       "      <th>Unnamed: 0</th>\n",
       "      <th>date</th>\n",
       "      <th>Time</th>\n",
       "      <th>Energy_consumed</th>\n",
       "      <th>Appliances</th>\n",
       "      <th>lights</th>\n",
       "      <th>Kitchen_Temp</th>\n",
       "      <th>Kitchen_Hum</th>\n",
       "      <th>LivingRoom_Temp</th>\n",
       "      <th>LivingRoom_Hum</th>\n",
       "      <th>...</th>\n",
       "      <th>ParentRoom_Hum</th>\n",
       "      <th>Outside_Temp</th>\n",
       "      <th>Pressure</th>\n",
       "      <th>Humidity</th>\n",
       "      <th>Windspeed</th>\n",
       "      <th>Visibility</th>\n",
       "      <th>Tdewpoint</th>\n",
       "      <th>rv1</th>\n",
       "      <th>Month_Number</th>\n",
       "      <th>Weekday_number</th>\n",
       "    </tr>\n",
       "  </thead>\n",
       "  <tbody>\n",
       "    <tr>\n",
       "      <th>0</th>\n",
       "      <td>0</td>\n",
       "      <td>2016-01-11</td>\n",
       "      <td>17:00:00</td>\n",
       "      <td>90</td>\n",
       "      <td>60</td>\n",
       "      <td>30</td>\n",
       "      <td>19.89</td>\n",
       "      <td>47.596667</td>\n",
       "      <td>19.2</td>\n",
       "      <td>44.790000</td>\n",
       "      <td>...</td>\n",
       "      <td>45.53</td>\n",
       "      <td>6.600000</td>\n",
       "      <td>733.5</td>\n",
       "      <td>92.0</td>\n",
       "      <td>7.000000</td>\n",
       "      <td>63.000000</td>\n",
       "      <td>5.3</td>\n",
       "      <td>13.275433</td>\n",
       "      <td>1</td>\n",
       "      <td>0</td>\n",
       "    </tr>\n",
       "    <tr>\n",
       "      <th>1</th>\n",
       "      <td>1</td>\n",
       "      <td>2016-01-11</td>\n",
       "      <td>17:10:00</td>\n",
       "      <td>90</td>\n",
       "      <td>60</td>\n",
       "      <td>30</td>\n",
       "      <td>19.89</td>\n",
       "      <td>46.693333</td>\n",
       "      <td>19.2</td>\n",
       "      <td>44.722500</td>\n",
       "      <td>...</td>\n",
       "      <td>45.56</td>\n",
       "      <td>6.483333</td>\n",
       "      <td>733.6</td>\n",
       "      <td>92.0</td>\n",
       "      <td>6.666667</td>\n",
       "      <td>59.166667</td>\n",
       "      <td>5.2</td>\n",
       "      <td>18.606195</td>\n",
       "      <td>1</td>\n",
       "      <td>0</td>\n",
       "    </tr>\n",
       "    <tr>\n",
       "      <th>2</th>\n",
       "      <td>2</td>\n",
       "      <td>2016-01-11</td>\n",
       "      <td>17:20:00</td>\n",
       "      <td>80</td>\n",
       "      <td>50</td>\n",
       "      <td>30</td>\n",
       "      <td>19.89</td>\n",
       "      <td>46.300000</td>\n",
       "      <td>19.2</td>\n",
       "      <td>44.626667</td>\n",
       "      <td>...</td>\n",
       "      <td>45.50</td>\n",
       "      <td>6.366667</td>\n",
       "      <td>733.7</td>\n",
       "      <td>92.0</td>\n",
       "      <td>6.333333</td>\n",
       "      <td>55.333333</td>\n",
       "      <td>5.1</td>\n",
       "      <td>28.642668</td>\n",
       "      <td>1</td>\n",
       "      <td>0</td>\n",
       "    </tr>\n",
       "    <tr>\n",
       "      <th>3</th>\n",
       "      <td>3</td>\n",
       "      <td>2016-01-11</td>\n",
       "      <td>17:30:00</td>\n",
       "      <td>90</td>\n",
       "      <td>50</td>\n",
       "      <td>40</td>\n",
       "      <td>19.89</td>\n",
       "      <td>46.066667</td>\n",
       "      <td>19.2</td>\n",
       "      <td>44.590000</td>\n",
       "      <td>...</td>\n",
       "      <td>45.40</td>\n",
       "      <td>6.250000</td>\n",
       "      <td>733.8</td>\n",
       "      <td>92.0</td>\n",
       "      <td>6.000000</td>\n",
       "      <td>51.500000</td>\n",
       "      <td>5.0</td>\n",
       "      <td>45.410389</td>\n",
       "      <td>1</td>\n",
       "      <td>0</td>\n",
       "    </tr>\n",
       "    <tr>\n",
       "      <th>4</th>\n",
       "      <td>4</td>\n",
       "      <td>2016-01-11</td>\n",
       "      <td>17:40:00</td>\n",
       "      <td>100</td>\n",
       "      <td>60</td>\n",
       "      <td>40</td>\n",
       "      <td>19.89</td>\n",
       "      <td>46.333333</td>\n",
       "      <td>19.2</td>\n",
       "      <td>44.530000</td>\n",
       "      <td>...</td>\n",
       "      <td>45.40</td>\n",
       "      <td>6.133333</td>\n",
       "      <td>733.9</td>\n",
       "      <td>92.0</td>\n",
       "      <td>5.666667</td>\n",
       "      <td>47.666667</td>\n",
       "      <td>4.9</td>\n",
       "      <td>10.084097</td>\n",
       "      <td>1</td>\n",
       "      <td>0</td>\n",
       "    </tr>\n",
       "  </tbody>\n",
       "</table>\n",
       "<p>5 rows × 33 columns</p>\n",
       "</div>"
      ],
      "text/plain": [
       "   Unnamed: 0        date      Time  Energy_consumed  Appliances  lights  \\\n",
       "0           0  2016-01-11  17:00:00               90          60      30   \n",
       "1           1  2016-01-11  17:10:00               90          60      30   \n",
       "2           2  2016-01-11  17:20:00               80          50      30   \n",
       "3           3  2016-01-11  17:30:00               90          50      40   \n",
       "4           4  2016-01-11  17:40:00              100          60      40   \n",
       "\n",
       "   Kitchen_Temp  Kitchen_Hum  LivingRoom_Temp  LivingRoom_Hum       ...        \\\n",
       "0         19.89    47.596667             19.2       44.790000       ...         \n",
       "1         19.89    46.693333             19.2       44.722500       ...         \n",
       "2         19.89    46.300000             19.2       44.626667       ...         \n",
       "3         19.89    46.066667             19.2       44.590000       ...         \n",
       "4         19.89    46.333333             19.2       44.530000       ...         \n",
       "\n",
       "   ParentRoom_Hum  Outside_Temp  Pressure  Humidity  Windspeed  Visibility  \\\n",
       "0           45.53      6.600000     733.5      92.0   7.000000   63.000000   \n",
       "1           45.56      6.483333     733.6      92.0   6.666667   59.166667   \n",
       "2           45.50      6.366667     733.7      92.0   6.333333   55.333333   \n",
       "3           45.40      6.250000     733.8      92.0   6.000000   51.500000   \n",
       "4           45.40      6.133333     733.9      92.0   5.666667   47.666667   \n",
       "\n",
       "   Tdewpoint        rv1  Month_Number  Weekday_number  \n",
       "0        5.3  13.275433             1               0  \n",
       "1        5.2  18.606195             1               0  \n",
       "2        5.1  28.642668             1               0  \n",
       "3        5.0  45.410389             1               0  \n",
       "4        4.9  10.084097             1               0  \n",
       "\n",
       "[5 rows x 33 columns]"
      ]
     },
     "execution_count": 12,
     "metadata": {},
     "output_type": "execute_result"
    }
   ],
   "source": [
    "## importing the dataset\n",
    "dataset = pd.read_csv(\"G://ADS//Assignment 2//Modified_energydata_complete(2).csv\")\n",
    "dataset.head()"
   ]
  },
  {
   "cell_type": "code",
   "execution_count": 88,
   "metadata": {},
   "outputs": [],
   "source": [
    "## X are the varibles used for predictions\n",
    "## Y is the target\n",
    "X = dataset.iloc[:,6:33].values\n",
    "Y = dataset.iloc[:,3].values"
   ]
  },
  {
   "cell_type": "code",
   "execution_count": 89,
   "metadata": {},
   "outputs": [],
   "source": [
    "##Spliting the data into testing and training\n",
    "from sklearn.cross_validation import train_test_split\n",
    "X_train,X_test,Y_train,Y_test = train_test_split(X,Y,test_size=0.2,random_state=0)"
   ]
  },
  {
   "cell_type": "code",
   "execution_count": 90,
   "metadata": {},
   "outputs": [],
   "source": [
    "NN = MLPRegressor(hidden_layer_sizes=(15,15,15))"
   ]
  },
  {
   "cell_type": "code",
   "execution_count": 91,
   "metadata": {},
   "outputs": [
    {
     "data": {
      "text/plain": [
       "MLPRegressor(activation='relu', alpha=0.0001, batch_size='auto', beta_1=0.9,\n",
       "       beta_2=0.999, early_stopping=False, epsilon=1e-08,\n",
       "       hidden_layer_sizes=(15, 15, 15), learning_rate='constant',\n",
       "       learning_rate_init=0.001, max_iter=200, momentum=0.9,\n",
       "       nesterovs_momentum=True, power_t=0.5, random_state=None,\n",
       "       shuffle=True, solver='adam', tol=0.0001, validation_fraction=0.1,\n",
       "       verbose=False, warm_start=False)"
      ]
     },
     "execution_count": 91,
     "metadata": {},
     "output_type": "execute_result"
    }
   ],
   "source": [
    "NN.fit(X_train,Y_train)"
   ]
  },
  {
   "cell_type": "code",
   "execution_count": 92,
   "metadata": {},
   "outputs": [
    {
     "data": {
      "text/plain": [
       "array([ 138.82975086,   88.02259617,  124.75178678, ...,   53.70668163,\n",
       "         97.77843831,  113.68902808])"
      ]
     },
     "execution_count": 92,
     "metadata": {},
     "output_type": "execute_result"
    }
   ],
   "source": [
    "pred=NN.predict(X_test)\n",
    "pred"
   ]
  },
  {
   "cell_type": "code",
   "execution_count": 93,
   "metadata": {},
   "outputs": [
    {
     "data": {
      "text/plain": [
       "0.10076461235042744"
      ]
     },
     "execution_count": 93,
     "metadata": {},
     "output_type": "execute_result"
    }
   ],
   "source": [
    "NN.score(X_test,Y_test)"
   ]
  },
  {
   "cell_type": "code",
   "execution_count": 94,
   "metadata": {},
   "outputs": [
    {
     "data": {
      "text/plain": [
       "0.10934637208153497"
      ]
     },
     "execution_count": 94,
     "metadata": {},
     "output_type": "execute_result"
    }
   ],
   "source": [
    "NN.score(X_train,Y_train)"
   ]
  },
  {
   "cell_type": "markdown",
   "metadata": {},
   "source": [
    "### R-square,RMSE,MAE,MAPE (TRAINING DATA)¶¶"
   ]
  },
  {
   "cell_type": "code",
   "execution_count": 95,
   "metadata": {},
   "outputs": [],
   "source": [
    "# Predicting the test set results\n",
    "train_pred =NN.predict(X_train)\n",
    "\n",
    "##  MAPE\n",
    "import numpy as np\n",
    "def mean_absolute_percentage_error(Y_train,train_pred): \n",
    "    Y_train, train_pred = np.array(Y_train), np.array(train_pred)\n",
    "    return np.mean(np.abs((Y_train,train_pred) / Y_train)) * 100"
   ]
  },
  {
   "cell_type": "code",
   "execution_count": 96,
   "metadata": {},
   "outputs": [
    {
     "name": "stdout",
     "output_type": "stream",
     "text": [
      "MAE of Training Data = 52.4026087202\n",
      "RMSE of Training Data = 97.51668898601257\n",
      "R2 of Training Data = 0.109346372082\n",
      "MAPE of Training Data = 115.237962624\n"
     ]
    }
   ],
   "source": [
    "## R-squared score of this model\n",
    "from sklearn.metrics import*\n",
    "import math\n",
    "## Mean absolute error\n",
    "MAE = mean_absolute_error(Y_train,train_pred)\n",
    "print('MAE of Training Data =', MAE)\n",
    "## Mean squared error\n",
    "MSE = mean_squared_error(Y_train,train_pred)\n",
    "RMSE = math.sqrt(MSE)\n",
    "print('RMSE of Training Data =',RMSE)\n",
    "## R-square score of this model\n",
    "R2 = r2_score(Y_train,train_pred)\n",
    "print('R2 of Training Data =',R2)\n",
    "## MAPE of this model\n",
    "MAPE=mean_absolute_percentage_error(Y_train,train_pred)\n",
    "print('MAPE of Training Data =',MAPE)"
   ]
  },
  {
   "cell_type": "markdown",
   "metadata": {},
   "source": [
    "### R-square,RMSE,MAE,MAPE (TESTING DATA)"
   ]
  },
  {
   "cell_type": "code",
   "execution_count": 97,
   "metadata": {},
   "outputs": [],
   "source": [
    "## Predicting the test set results\n",
    "test_pred =NN.predict(X_test)\n",
    "\n",
    "## MAPE\n",
    "import numpy as np\n",
    "def mean_absolute_percentage_error(Y_test,test_pred): \n",
    "    Y_test, test_pred = np.array(Y_test), np.array(test_pred)\n",
    "    return np.mean(np.abs((Y_test,test_pred) / Y_test)) * 100"
   ]
  },
  {
   "cell_type": "code",
   "execution_count": 98,
   "metadata": {},
   "outputs": [
    {
     "name": "stdout",
     "output_type": "stream",
     "text": [
      "MAE of Testing Data= 54.197845316\n",
      "RMSE of Testing Data= 102.84809854366456\n",
      "R2 of Testing Data= 0.10076461235\n",
      "MAPE of Testing Data= 115.243027777\n"
     ]
    }
   ],
   "source": [
    "import math\n",
    "##Mean absolute error\n",
    "MAE = mean_absolute_error(Y_test,test_pred)\n",
    "print('MAE of Testing Data=',MAE)\n",
    "## Mean squared error\n",
    "MSE = mean_squared_error(Y_test,test_pred)\n",
    "RMSE = math.sqrt(MSE)\n",
    "print('RMSE of Testing Data=',RMSE)\n",
    "## R-square score of this model\n",
    "R2 = r2_score(Y_test,test_pred)\n",
    "print('R2 of Testing Data=',R2)\n",
    "## MAPE of this model\n",
    "MAPE=mean_absolute_percentage_error(Y_test,test_pred)\n",
    "print('MAPE of Testing Data=',MAPE)"
   ]
  },
  {
   "cell_type": "markdown",
   "metadata": {},
   "source": [
    "# FEATURE SELECTION AFTER BORUTA"
   ]
  },
  {
   "cell_type": "code",
   "execution_count": 99,
   "metadata": {
    "collapsed": true
   },
   "outputs": [],
   "source": [
    "## X are the varibles used for predictions\n",
    "## Y is the target\n",
    "X = dataset.iloc[:,[7,8,9,11,13,15,16,17,19,20,21,23,24,25,26,29]].values\n",
    "Y = dataset.iloc[:,3].values"
   ]
  },
  {
   "cell_type": "code",
   "execution_count": 101,
   "metadata": {},
   "outputs": [
    {
     "data": {
      "text/plain": [
       "MLPRegressor(activation='relu', alpha=0.0001, batch_size='auto', beta_1=0.9,\n",
       "       beta_2=0.999, early_stopping=False, epsilon=1e-08,\n",
       "       hidden_layer_sizes=(100,), learning_rate='constant',\n",
       "       learning_rate_init=0.001, max_iter=200, momentum=0.9,\n",
       "       nesterovs_momentum=True, power_t=0.5, random_state=None,\n",
       "       shuffle=True, solver='adam', tol=0.0001, validation_fraction=0.1,\n",
       "       verbose=False, warm_start=False)"
      ]
     },
     "execution_count": 101,
     "metadata": {},
     "output_type": "execute_result"
    }
   ],
   "source": [
    "## fitting multiple linear regression to the training set\n",
    "from sklearn.neural_network import MLPRegressor\n",
    "regressor = MLPRegressor()\n",
    "X_train, X_test, Y_train, Y_test = train_test_split(X, Y, test_size=0.2, random_state=np.random)\n",
    "regressor.fit(X_train,Y_train)"
   ]
  },
  {
   "cell_type": "code",
   "execution_count": 112,
   "metadata": {},
   "outputs": [
    {
     "data": {
      "text/plain": [
       "MLPRegressor(activation='relu', alpha=0.0001, batch_size='auto', beta_1=0.9,\n",
       "       beta_2=0.999, early_stopping=False, epsilon=1e-08,\n",
       "       hidden_layer_sizes=(10, 10, 10), learning_rate='constant',\n",
       "       learning_rate_init=0.001, max_iter=200, momentum=0.9,\n",
       "       nesterovs_momentum=True, power_t=0.5, random_state=None,\n",
       "       shuffle=True, solver='adam', tol=0.0001, validation_fraction=0.1,\n",
       "       verbose=False, warm_start=False)"
      ]
     },
     "execution_count": 112,
     "metadata": {},
     "output_type": "execute_result"
    }
   ],
   "source": [
    "NN = MLPRegressor(hidden_layer_sizes=(10,10,10))\n",
    "NN.fit(X_train,Y_train)"
   ]
  },
  {
   "cell_type": "code",
   "execution_count": 113,
   "metadata": {},
   "outputs": [
    {
     "data": {
      "text/plain": [
       "array([  57.42805411,  104.18129959,  169.69830289, ...,   92.07000668,\n",
       "         87.64035059,   57.3719174 ])"
      ]
     },
     "execution_count": 113,
     "metadata": {},
     "output_type": "execute_result"
    }
   ],
   "source": [
    "pred=NN.predict(X_test)\n",
    "pred"
   ]
  },
  {
   "cell_type": "code",
   "execution_count": 114,
   "metadata": {},
   "outputs": [
    {
     "data": {
      "text/plain": [
       "0.093889969635439385"
      ]
     },
     "execution_count": 114,
     "metadata": {},
     "output_type": "execute_result"
    }
   ],
   "source": [
    "NN.score(X_test,Y_test)"
   ]
  },
  {
   "cell_type": "code",
   "execution_count": 115,
   "metadata": {},
   "outputs": [
    {
     "data": {
      "text/plain": [
       "0.088812568166313777"
      ]
     },
     "execution_count": 115,
     "metadata": {},
     "output_type": "execute_result"
    }
   ],
   "source": [
    "NN.score(X_train,Y_train)"
   ]
  },
  {
   "cell_type": "markdown",
   "metadata": {},
   "source": [
    "### R-square,RMSE,MAE,MAPE (TRAINING DATA)¶¶"
   ]
  },
  {
   "cell_type": "code",
   "execution_count": 116,
   "metadata": {
    "collapsed": true
   },
   "outputs": [],
   "source": [
    "# Predicting the test set results\n",
    "train_pred =NN.predict(X_train)\n",
    "\n",
    "##  MAPE\n",
    "import numpy as np\n",
    "def mean_absolute_percentage_error(Y_train,train_pred): \n",
    "    Y_train, train_pred = np.array(Y_train), np.array(train_pred)\n",
    "    return np.mean(np.abs((Y_train,train_pred) / Y_train)) * 100"
   ]
  },
  {
   "cell_type": "code",
   "execution_count": 117,
   "metadata": {},
   "outputs": [
    {
     "name": "stdout",
     "output_type": "stream",
     "text": [
      "MAE of Training Data = 59.3196323188\n",
      "RMSE of Training Data = 98.31244253335677\n",
      "R2 of Training Data = 0.0888125681663\n",
      "MAPE of Training Data = 128.820852471\n"
     ]
    }
   ],
   "source": [
    "## R-squared score of this model\n",
    "from sklearn.metrics import*\n",
    "import math\n",
    "## Mean absolute error\n",
    "MAE = mean_absolute_error(Y_train,train_pred)\n",
    "print('MAE of Training Data =', MAE)\n",
    "## Mean squared error\n",
    "MSE = mean_squared_error(Y_train,train_pred)\n",
    "RMSE = math.sqrt(MSE)\n",
    "print('RMSE of Training Data =',RMSE)\n",
    "## R-square score of this model\n",
    "R2 = r2_score(Y_train,train_pred)\n",
    "print('R2 of Training Data =',R2)\n",
    "## MAPE of this model\n",
    "MAPE=mean_absolute_percentage_error(Y_train,train_pred)\n",
    "print('MAPE of Training Data =',MAPE)"
   ]
  },
  {
   "cell_type": "markdown",
   "metadata": {},
   "source": [
    "### R-square,RMSE,MAE,MAPE (TESTING DATA)"
   ]
  },
  {
   "cell_type": "code",
   "execution_count": 118,
   "metadata": {
    "collapsed": true
   },
   "outputs": [],
   "source": [
    "## Predicting the test set results\n",
    "test_pred =NN.predict(X_test)\n",
    "\n",
    "## MAPE\n",
    "import numpy as np\n",
    "def mean_absolute_percentage_error(Y_test,test_pred): \n",
    "    Y_test, test_pred = np.array(Y_test), np.array(test_pred)\n",
    "    return np.mean(np.abs((Y_test,test_pred) / Y_test)) * 100"
   ]
  },
  {
   "cell_type": "code",
   "execution_count": 119,
   "metadata": {},
   "outputs": [
    {
     "name": "stdout",
     "output_type": "stream",
     "text": [
      "MAE of Testing Data= 61.837862246\n",
      "RMSE of Testing Data= 104.404851884125\n",
      "R2 of Testing Data= 0.0938899696354\n",
      "MAPE of Testing Data= 127.628031046\n"
     ]
    }
   ],
   "source": [
    "import math\n",
    "##Mean absolute error\n",
    "MAE = mean_absolute_error(Y_test,test_pred)\n",
    "print('MAE of Testing Data=',MAE)\n",
    "## Mean squared error\n",
    "MSE = mean_squared_error(Y_test,test_pred)\n",
    "RMSE = math.sqrt(MSE)\n",
    "print('RMSE of Testing Data=',RMSE)\n",
    "## R-square score of this model\n",
    "R2 = r2_score(Y_test,test_pred)\n",
    "print('R2 of Testing Data=',R2)\n",
    "## MAPE of this model\n",
    "MAPE=mean_absolute_percentage_error(Y_test,test_pred)\n",
    "print('MAPE of Testing Data=',MAPE)"
   ]
  },
  {
   "cell_type": "code",
   "execution_count": null,
   "metadata": {
    "collapsed": true
   },
   "outputs": [],
   "source": []
  }
 ],
 "metadata": {
  "kernelspec": {
   "display_name": "Python 3",
   "language": "python",
   "name": "python3"
  },
  "language_info": {
   "codemirror_mode": {
    "name": "ipython",
    "version": 3
   },
   "file_extension": ".py",
   "mimetype": "text/x-python",
   "name": "python",
   "nbconvert_exporter": "python",
   "pygments_lexer": "ipython3",
   "version": "3.6.3"
  }
 },
 "nbformat": 4,
 "nbformat_minor": 2
}
