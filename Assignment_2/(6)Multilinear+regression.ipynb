{
 "cells": [
  {
   "cell_type": "code",
   "execution_count": 65,
   "metadata": {},
   "outputs": [
    {
     "name": "stdout",
     "output_type": "stream",
     "text": [
      "Requirement already satisfied: tpot in c:\\users\\hp\\anaconda32\\lib\\site-packages\n",
      "Requirement already satisfied: stopit>=1.1.1 in c:\\users\\hp\\anaconda32\\lib\\site-packages (from tpot)\n",
      "Requirement already satisfied: pandas>=0.20.2 in c:\\users\\hp\\anaconda32\\lib\\site-packages (from tpot)\n",
      "Requirement already satisfied: tqdm>=4.11.2 in c:\\users\\hp\\anaconda32\\lib\\site-packages (from tpot)\n",
      "Requirement already satisfied: update-checker>=0.16 in c:\\users\\hp\\anaconda32\\lib\\site-packages (from tpot)\n",
      "Requirement already satisfied: numpy>=1.12.1 in c:\\users\\hp\\anaconda32\\lib\\site-packages (from tpot)\n",
      "Requirement already satisfied: deap>=1.0 in c:\\users\\hp\\anaconda32\\lib\\site-packages (from tpot)\n",
      "Requirement already satisfied: scikit-learn>=0.18.1 in c:\\users\\hp\\anaconda32\\lib\\site-packages (from tpot)\n",
      "Requirement already satisfied: scipy>=0.19.0 in c:\\users\\hp\\anaconda32\\lib\\site-packages (from tpot)\n",
      "Requirement already satisfied: python-dateutil>=2 in c:\\users\\hp\\anaconda32\\lib\\site-packages (from pandas>=0.20.2->tpot)\n",
      "Requirement already satisfied: pytz>=2011k in c:\\users\\hp\\anaconda32\\lib\\site-packages (from pandas>=0.20.2->tpot)\n",
      "Requirement already satisfied: requests>=2.3.0 in c:\\users\\hp\\anaconda32\\lib\\site-packages (from update-checker>=0.16->tpot)\n",
      "Requirement already satisfied: six>=1.5 in c:\\users\\hp\\anaconda32\\lib\\site-packages (from python-dateutil>=2->pandas>=0.20.2->tpot)\n",
      "Requirement already satisfied: chardet<3.1.0,>=3.0.2 in c:\\users\\hp\\anaconda32\\lib\\site-packages (from requests>=2.3.0->update-checker>=0.16->tpot)\n",
      "Requirement already satisfied: idna<2.7,>=2.5 in c:\\users\\hp\\anaconda32\\lib\\site-packages (from requests>=2.3.0->update-checker>=0.16->tpot)\n",
      "Requirement already satisfied: urllib3<1.23,>=1.21.1 in c:\\users\\hp\\anaconda32\\lib\\site-packages (from requests>=2.3.0->update-checker>=0.16->tpot)\n",
      "Requirement already satisfied: certifi>=2017.4.17 in c:\\users\\hp\\anaconda32\\lib\\site-packages (from requests>=2.3.0->update-checker>=0.16->tpot)\n"
     ]
    }
   ],
   "source": [
    "!pip install tpot"
   ]
  },
  {
   "cell_type": "code",
   "execution_count": 285,
   "metadata": {
    "collapsed": true
   },
   "outputs": [],
   "source": [
    "## imporing the librarires\n",
    "import numpy as np\n",
    "import matplotlib.pyplot as plt\n",
    "import pandas as pd\n",
    "from matplotlib.pylab import rcParams\n",
    "import seaborn as sns \n",
    "from tpot import TPOTRegressor"
   ]
  },
  {
   "cell_type": "code",
   "execution_count": 286,
   "metadata": {},
   "outputs": [
    {
     "data": {
      "text/html": [
       "<div>\n",
       "<style>\n",
       "    .dataframe thead tr:only-child th {\n",
       "        text-align: right;\n",
       "    }\n",
       "\n",
       "    .dataframe thead th {\n",
       "        text-align: left;\n",
       "    }\n",
       "\n",
       "    .dataframe tbody tr th {\n",
       "        vertical-align: top;\n",
       "    }\n",
       "</style>\n",
       "<table border=\"1\" class=\"dataframe\">\n",
       "  <thead>\n",
       "    <tr style=\"text-align: right;\">\n",
       "      <th></th>\n",
       "      <th>Unnamed: 0</th>\n",
       "      <th>date</th>\n",
       "      <th>Time</th>\n",
       "      <th>Energy_consumed</th>\n",
       "      <th>Appliances</th>\n",
       "      <th>lights</th>\n",
       "      <th>Kitchen_Temp</th>\n",
       "      <th>Kitchen_Hum</th>\n",
       "      <th>LivingRoom_Temp</th>\n",
       "      <th>LivingRoom_Hum</th>\n",
       "      <th>...</th>\n",
       "      <th>ParentRoom_Hum</th>\n",
       "      <th>Outside_Temp</th>\n",
       "      <th>Pressure</th>\n",
       "      <th>Humidity</th>\n",
       "      <th>Windspeed</th>\n",
       "      <th>Visibility</th>\n",
       "      <th>Tdewpoint</th>\n",
       "      <th>rv1</th>\n",
       "      <th>Month_Number</th>\n",
       "      <th>Weekday_number</th>\n",
       "    </tr>\n",
       "  </thead>\n",
       "  <tbody>\n",
       "    <tr>\n",
       "      <th>0</th>\n",
       "      <td>0</td>\n",
       "      <td>2016-01-11</td>\n",
       "      <td>17:00:00</td>\n",
       "      <td>90</td>\n",
       "      <td>60</td>\n",
       "      <td>30</td>\n",
       "      <td>19.89</td>\n",
       "      <td>47.596667</td>\n",
       "      <td>19.2</td>\n",
       "      <td>44.790000</td>\n",
       "      <td>...</td>\n",
       "      <td>45.53</td>\n",
       "      <td>6.600000</td>\n",
       "      <td>733.5</td>\n",
       "      <td>92.0</td>\n",
       "      <td>7.000000</td>\n",
       "      <td>63.000000</td>\n",
       "      <td>5.3</td>\n",
       "      <td>13.275433</td>\n",
       "      <td>1</td>\n",
       "      <td>0</td>\n",
       "    </tr>\n",
       "    <tr>\n",
       "      <th>1</th>\n",
       "      <td>1</td>\n",
       "      <td>2016-01-11</td>\n",
       "      <td>17:10:00</td>\n",
       "      <td>90</td>\n",
       "      <td>60</td>\n",
       "      <td>30</td>\n",
       "      <td>19.89</td>\n",
       "      <td>46.693333</td>\n",
       "      <td>19.2</td>\n",
       "      <td>44.722500</td>\n",
       "      <td>...</td>\n",
       "      <td>45.56</td>\n",
       "      <td>6.483333</td>\n",
       "      <td>733.6</td>\n",
       "      <td>92.0</td>\n",
       "      <td>6.666667</td>\n",
       "      <td>59.166667</td>\n",
       "      <td>5.2</td>\n",
       "      <td>18.606195</td>\n",
       "      <td>1</td>\n",
       "      <td>0</td>\n",
       "    </tr>\n",
       "    <tr>\n",
       "      <th>2</th>\n",
       "      <td>2</td>\n",
       "      <td>2016-01-11</td>\n",
       "      <td>17:20:00</td>\n",
       "      <td>80</td>\n",
       "      <td>50</td>\n",
       "      <td>30</td>\n",
       "      <td>19.89</td>\n",
       "      <td>46.300000</td>\n",
       "      <td>19.2</td>\n",
       "      <td>44.626667</td>\n",
       "      <td>...</td>\n",
       "      <td>45.50</td>\n",
       "      <td>6.366667</td>\n",
       "      <td>733.7</td>\n",
       "      <td>92.0</td>\n",
       "      <td>6.333333</td>\n",
       "      <td>55.333333</td>\n",
       "      <td>5.1</td>\n",
       "      <td>28.642668</td>\n",
       "      <td>1</td>\n",
       "      <td>0</td>\n",
       "    </tr>\n",
       "    <tr>\n",
       "      <th>3</th>\n",
       "      <td>3</td>\n",
       "      <td>2016-01-11</td>\n",
       "      <td>17:30:00</td>\n",
       "      <td>90</td>\n",
       "      <td>50</td>\n",
       "      <td>40</td>\n",
       "      <td>19.89</td>\n",
       "      <td>46.066667</td>\n",
       "      <td>19.2</td>\n",
       "      <td>44.590000</td>\n",
       "      <td>...</td>\n",
       "      <td>45.40</td>\n",
       "      <td>6.250000</td>\n",
       "      <td>733.8</td>\n",
       "      <td>92.0</td>\n",
       "      <td>6.000000</td>\n",
       "      <td>51.500000</td>\n",
       "      <td>5.0</td>\n",
       "      <td>45.410389</td>\n",
       "      <td>1</td>\n",
       "      <td>0</td>\n",
       "    </tr>\n",
       "    <tr>\n",
       "      <th>4</th>\n",
       "      <td>4</td>\n",
       "      <td>2016-01-11</td>\n",
       "      <td>17:40:00</td>\n",
       "      <td>100</td>\n",
       "      <td>60</td>\n",
       "      <td>40</td>\n",
       "      <td>19.89</td>\n",
       "      <td>46.333333</td>\n",
       "      <td>19.2</td>\n",
       "      <td>44.530000</td>\n",
       "      <td>...</td>\n",
       "      <td>45.40</td>\n",
       "      <td>6.133333</td>\n",
       "      <td>733.9</td>\n",
       "      <td>92.0</td>\n",
       "      <td>5.666667</td>\n",
       "      <td>47.666667</td>\n",
       "      <td>4.9</td>\n",
       "      <td>10.084097</td>\n",
       "      <td>1</td>\n",
       "      <td>0</td>\n",
       "    </tr>\n",
       "  </tbody>\n",
       "</table>\n",
       "<p>5 rows × 33 columns</p>\n",
       "</div>"
      ],
      "text/plain": [
       "   Unnamed: 0        date      Time  Energy_consumed  Appliances  lights  \\\n",
       "0           0  2016-01-11  17:00:00               90          60      30   \n",
       "1           1  2016-01-11  17:10:00               90          60      30   \n",
       "2           2  2016-01-11  17:20:00               80          50      30   \n",
       "3           3  2016-01-11  17:30:00               90          50      40   \n",
       "4           4  2016-01-11  17:40:00              100          60      40   \n",
       "\n",
       "   Kitchen_Temp  Kitchen_Hum  LivingRoom_Temp  LivingRoom_Hum       ...        \\\n",
       "0         19.89    47.596667             19.2       44.790000       ...         \n",
       "1         19.89    46.693333             19.2       44.722500       ...         \n",
       "2         19.89    46.300000             19.2       44.626667       ...         \n",
       "3         19.89    46.066667             19.2       44.590000       ...         \n",
       "4         19.89    46.333333             19.2       44.530000       ...         \n",
       "\n",
       "   ParentRoom_Hum  Outside_Temp  Pressure  Humidity  Windspeed  Visibility  \\\n",
       "0           45.53      6.600000     733.5      92.0   7.000000   63.000000   \n",
       "1           45.56      6.483333     733.6      92.0   6.666667   59.166667   \n",
       "2           45.50      6.366667     733.7      92.0   6.333333   55.333333   \n",
       "3           45.40      6.250000     733.8      92.0   6.000000   51.500000   \n",
       "4           45.40      6.133333     733.9      92.0   5.666667   47.666667   \n",
       "\n",
       "   Tdewpoint        rv1  Month_Number  Weekday_number  \n",
       "0        5.3  13.275433             1               0  \n",
       "1        5.2  18.606195             1               0  \n",
       "2        5.1  28.642668             1               0  \n",
       "3        5.0  45.410389             1               0  \n",
       "4        4.9  10.084097             1               0  \n",
       "\n",
       "[5 rows x 33 columns]"
      ]
     },
     "execution_count": 286,
     "metadata": {},
     "output_type": "execute_result"
    }
   ],
   "source": [
    "## importing the dataset\n",
    "dataset = pd.read_csv(\"G://ADS//Assignment 2//Modified_energydata_complete(2).csv\")\n",
    "dataset.head()"
   ]
  },
  {
   "cell_type": "code",
   "execution_count": 287,
   "metadata": {},
   "outputs": [],
   "source": [
    "## X are the varibles used for predictions\n",
    "## Y is the target\n",
    "X = dataset.iloc[:,6:33].values\n",
    "Y = dataset.iloc[:,3].values"
   ]
  },
  {
   "cell_type": "code",
   "execution_count": 288,
   "metadata": {},
   "outputs": [
    {
     "data": {
      "text/plain": [
       "LinearRegression(copy_X=True, fit_intercept=True, n_jobs=1, normalize=False)"
      ]
     },
     "execution_count": 288,
     "metadata": {},
     "output_type": "execute_result"
    }
   ],
   "source": [
    "## fitting multiple linear regression to the training set\n",
    "from sklearn.linear_model import LinearRegression\n",
    "regressor = LinearRegression()\n",
    "X_train, X_test, Y_train, Y_test = train_test_split(X, Y, test_size=0.2, random_state=np.random)\n",
    "regressor.fit(X_train,Y_train)"
   ]
  },
  {
   "cell_type": "code",
   "execution_count": 289,
   "metadata": {},
   "outputs": [
    {
     "data": {
      "text/plain": [
       "array([  53.79530162,  107.21766618,   85.76481756, ...,   77.46966837,\n",
       "        109.26695819,  107.25250077])"
      ]
     },
     "execution_count": 289,
     "metadata": {},
     "output_type": "execute_result"
    }
   ],
   "source": [
    "Y_predictions = regressor.predict(X_test)\n",
    "#print(regressor.intercept_)\n",
    "#print(regressor.coef_)\n",
    "Y_predictions"
   ]
  },
  {
   "cell_type": "code",
   "execution_count": 290,
   "metadata": {},
   "outputs": [
    {
     "data": {
      "image/png": "[encoded data removed]",
      "text/plain": [
       "<matplotlib.figure.Figure at 0x1f623934470>"
      ]
     },
     "metadata": {},
     "output_type": "display_data"
    }
   ],
   "source": [
    "plt.scatter(Y_test,Y_predictions)\n",
    "plt.show()"
   ]
  },
  {
   "cell_type": "code",
   "execution_count": 291,
   "metadata": {},
   "outputs": [
    {
     "data": {
      "image/png": "[encoded data removed]",
      "text/plain": [
       "<matplotlib.figure.Figure at 0x1f623875fd0>"
      ]
     },
     "metadata": {},
     "output_type": "display_data"
    }
   ],
   "source": [
    "#Residual Distribution Plot\n",
    "sns.distplot((Y_test-Y_predictions))\n",
    "plt.show()"
   ]
  },
  {
   "cell_type": "code",
   "execution_count": 292,
   "metadata": {},
   "outputs": [
    {
     "data": {
      "text/html": [
       "<table class=\"simpletable\">\n",
       "<caption>OLS Regression Results</caption>\n",
       "<tr>\n",
       "  <th>Dep. Variable:</th>            <td>y</td>        <th>  R-squared:         </th>  <td>   0.157</td>  \n",
       "</tr>\n",
       "<tr>\n",
       "  <th>Model:</th>                   <td>OLS</td>       <th>  Adj. R-squared:    </th>  <td>   0.156</td>  \n",
       "</tr>\n",
       "<tr>\n",
       "  <th>Method:</th>             <td>Least Squares</td>  <th>  F-statistic:       </th>  <td>   135.6</td>  \n",
       "</tr>\n",
       "<tr>\n",
       "  <th>Date:</th>             <td>Fri, 16 Mar 2018</td> <th>  Prob (F-statistic):</th>   <td>  0.00</td>   \n",
       "</tr>\n",
       "<tr>\n",
       "  <th>Time:</th>                 <td>17:55:49</td>     <th>  Log-Likelihood:    </th> <td>-1.1805e+05</td>\n",
       "</tr>\n",
       "<tr>\n",
       "  <th>No. Observations:</th>      <td> 19735</td>      <th>  AIC:               </th>  <td>2.362e+05</td> \n",
       "</tr>\n",
       "<tr>\n",
       "  <th>Df Residuals:</th>          <td> 19707</td>      <th>  BIC:               </th>  <td>2.364e+05</td> \n",
       "</tr>\n",
       "<tr>\n",
       "  <th>Df Model:</th>              <td>    27</td>      <th>                     </th>      <td> </td>     \n",
       "</tr>\n",
       "<tr>\n",
       "  <th>Covariance Type:</th>      <td>nonrobust</td>    <th>                     </th>      <td> </td>     \n",
       "</tr>\n",
       "</table>\n",
       "<table class=\"simpletable\">\n",
       "<tr>\n",
       "    <td></td>       <th>coef</th>     <th>std err</th>      <th>t</th>      <th>P>|t|</th>  <th>[0.025</th>    <th>0.975]</th>  \n",
       "</tr>\n",
       "<tr>\n",
       "  <th>const</th> <td>   23.3487</td> <td>   96.786</td> <td>    0.241</td> <td> 0.809</td> <td> -166.360</td> <td>  213.058</td>\n",
       "</tr>\n",
       "<tr>\n",
       "  <th>x1</th>    <td>   -0.6513</td> <td>    1.896</td> <td>   -0.344</td> <td> 0.731</td> <td>   -4.367</td> <td>    3.064</td>\n",
       "</tr>\n",
       "<tr>\n",
       "  <th>x2</th>    <td>   16.5571</td> <td>    0.684</td> <td>   24.204</td> <td> 0.000</td> <td>   15.216</td> <td>   17.898</td>\n",
       "</tr>\n",
       "<tr>\n",
       "  <th>x3</th>    <td>  -21.7007</td> <td>    1.667</td> <td>  -13.020</td> <td> 0.000</td> <td>  -24.968</td> <td>  -18.434</td>\n",
       "</tr>\n",
       "<tr>\n",
       "  <th>x4</th>    <td>  -14.7222</td> <td>    0.784</td> <td>  -18.778</td> <td> 0.000</td> <td>  -16.259</td> <td>  -13.185</td>\n",
       "</tr>\n",
       "<tr>\n",
       "  <th>x5</th>    <td>   26.4460</td> <td>    1.086</td> <td>   24.343</td> <td> 0.000</td> <td>   24.317</td> <td>   28.575</td>\n",
       "</tr>\n",
       "<tr>\n",
       "  <th>x6</th>    <td>    4.5670</td> <td>    0.696</td> <td>    6.563</td> <td> 0.000</td> <td>    3.203</td> <td>    5.931</td>\n",
       "</tr>\n",
       "<tr>\n",
       "  <th>x7</th>    <td>    6.8785</td> <td>    1.020</td> <td>    6.742</td> <td> 0.000</td> <td>    4.879</td> <td>    8.878</td>\n",
       "</tr>\n",
       "<tr>\n",
       "  <th>x8</th>    <td>    2.4620</td> <td>    0.652</td> <td>    3.775</td> <td> 0.000</td> <td>    1.184</td> <td>    3.740</td>\n",
       "</tr>\n",
       "<tr>\n",
       "  <th>x9</th>    <td>    0.8243</td> <td>    1.205</td> <td>    0.684</td> <td> 0.494</td> <td>   -1.538</td> <td>    3.187</td>\n",
       "</tr>\n",
       "<tr>\n",
       "  <th>x10</th>   <td>    0.2600</td> <td>    0.089</td> <td>    2.927</td> <td> 0.003</td> <td>    0.086</td> <td>    0.434</td>\n",
       "</tr>\n",
       "<tr>\n",
       "  <th>x11</th>   <td>    7.3409</td> <td>    0.654</td> <td>   11.233</td> <td> 0.000</td> <td>    6.060</td> <td>    8.622</td>\n",
       "</tr>\n",
       "<tr>\n",
       "  <th>x12</th>   <td>    0.1460</td> <td>    0.077</td> <td>    1.906</td> <td> 0.057</td> <td>   -0.004</td> <td>    0.296</td>\n",
       "</tr>\n",
       "<tr>\n",
       "  <th>x13</th>   <td>   -0.3661</td> <td>    1.367</td> <td>   -0.268</td> <td> 0.789</td> <td>   -3.045</td> <td>    2.313</td>\n",
       "</tr>\n",
       "<tr>\n",
       "  <th>x14</th>   <td>   -2.0700</td> <td>    0.439</td> <td>   -4.711</td> <td> 0.000</td> <td>   -2.931</td> <td>   -1.209</td>\n",
       "</tr>\n",
       "<tr>\n",
       "  <th>x15</th>   <td>   11.0746</td> <td>    0.990</td> <td>   11.182</td> <td> 0.000</td> <td>    9.133</td> <td>   13.016</td>\n",
       "</tr>\n",
       "<tr>\n",
       "  <th>x16</th>   <td>   -6.4024</td> <td>    0.378</td> <td>  -16.959</td> <td> 0.000</td> <td>   -7.142</td> <td>   -5.662</td>\n",
       "</tr>\n",
       "<tr>\n",
       "  <th>x17</th>   <td>  -21.1951</td> <td>    1.872</td> <td>  -11.319</td> <td> 0.000</td> <td>  -24.865</td> <td>  -17.525</td>\n",
       "</tr>\n",
       "<tr>\n",
       "  <th>x18</th>   <td>   -2.0727</td> <td>    0.419</td> <td>   -4.943</td> <td> 0.000</td> <td>   -2.895</td> <td>   -1.251</td>\n",
       "</tr>\n",
       "<tr>\n",
       "  <th>x19</th>   <td>   -8.3297</td> <td>    1.603</td> <td>   -5.197</td> <td> 0.000</td> <td>  -11.471</td> <td>   -5.188</td>\n",
       "</tr>\n",
       "<tr>\n",
       "  <th>x20</th>   <td>    0.0785</td> <td>    0.110</td> <td>    0.717</td> <td> 0.474</td> <td>   -0.136</td> <td>    0.293</td>\n",
       "</tr>\n",
       "<tr>\n",
       "  <th>x21</th>   <td>   -0.2619</td> <td>    0.333</td> <td>   -0.788</td> <td> 0.431</td> <td>   -0.914</td> <td>    0.390</td>\n",
       "</tr>\n",
       "<tr>\n",
       "  <th>x22</th>   <td>    1.9925</td> <td>    0.357</td> <td>    5.588</td> <td> 0.000</td> <td>    1.294</td> <td>    2.691</td>\n",
       "</tr>\n",
       "<tr>\n",
       "  <th>x23</th>   <td>    0.1848</td> <td>    0.059</td> <td>    3.119</td> <td> 0.002</td> <td>    0.069</td> <td>    0.301</td>\n",
       "</tr>\n",
       "<tr>\n",
       "  <th>x24</th>   <td>    3.9531</td> <td>    1.520</td> <td>    2.601</td> <td> 0.009</td> <td>    0.974</td> <td>    6.932</td>\n",
       "</tr>\n",
       "<tr>\n",
       "  <th>x25</th>   <td>   -0.0436</td> <td>    0.047</td> <td>   -0.925</td> <td> 0.355</td> <td>   -0.136</td> <td>    0.049</td>\n",
       "</tr>\n",
       "<tr>\n",
       "  <th>x26</th>   <td>  -12.5759</td> <td>    1.781</td> <td>   -7.060</td> <td> 0.000</td> <td>  -16.067</td> <td>   -9.084</td>\n",
       "</tr>\n",
       "<tr>\n",
       "  <th>x27</th>   <td>    1.0901</td> <td>    0.361</td> <td>    3.017</td> <td> 0.003</td> <td>    0.382</td> <td>    1.798</td>\n",
       "</tr>\n",
       "</table>\n",
       "<table class=\"simpletable\">\n",
       "<tr>\n",
       "  <th>Omnibus:</th>       <td>13799.743</td> <th>  Durbin-Watson:     </th>  <td>   0.601</td> \n",
       "</tr>\n",
       "<tr>\n",
       "  <th>Prob(Omnibus):</th>  <td> 0.000</td>   <th>  Jarque-Bera (JB):  </th> <td>202481.634</td>\n",
       "</tr>\n",
       "<tr>\n",
       "  <th>Skew:</th>           <td> 3.278</td>   <th>  Prob(JB):          </th>  <td>    0.00</td> \n",
       "</tr>\n",
       "<tr>\n",
       "  <th>Kurtosis:</th>       <td>17.257</td>   <th>  Cond. No.          </th>  <td>1.10e+05</td> \n",
       "</tr>\n",
       "</table>"
      ],
      "text/plain": [
       "<class 'statsmodels.iolib.summary.Summary'>\n",
       "\"\"\"\n",
       "                            OLS Regression Results                            \n",
       "==============================================================================\n",
       "Dep. Variable:                      y   R-squared:                       0.157\n",
       "Model:                            OLS   Adj. R-squared:                  0.156\n",
       "Method:                 Least Squares   F-statistic:                     135.6\n",
       "Date:                Fri, 16 Mar 2018   Prob (F-statistic):               0.00\n",
       "Time:                        17:55:49   Log-Likelihood:            -1.1805e+05\n",
       "No. Observations:               19735   AIC:                         2.362e+05\n",
       "Df Residuals:                   19707   BIC:                         2.364e+05\n",
       "Df Model:                          27                                         \n",
       "Covariance Type:            nonrobust                                         \n",
       "==============================================================================\n",
       "                 coef    std err          t      P>|t|      [0.025      0.975]\n",
       "------------------------------------------------------------------------------\n",
       "const         23.3487     96.786      0.241      0.809    -166.360     213.058\n",
       "x1            -0.6513      1.896     -0.344      0.731      -4.367       3.064\n",
       "x2            16.5571      0.684     24.204      0.000      15.216      17.898\n",
       "x3           -21.7007      1.667    -13.020      0.000     -24.968     -18.434\n",
       "x4           -14.7222      0.784    -18.778      0.000     -16.259     -13.185\n",
       "x5            26.4460      1.086     24.343      0.000      24.317      28.575\n",
       "x6             4.5670      0.696      6.563      0.000       3.203       5.931\n",
       "x7             6.8785      1.020      6.742      0.000       4.879       8.878\n",
       "x8             2.4620      0.652      3.775      0.000       1.184       3.740\n",
       "x9             0.8243      1.205      0.684      0.494      -1.538       3.187\n",
       "x10            0.2600      0.089      2.927      0.003       0.086       0.434\n",
       "x11            7.3409      0.654     11.233      0.000       6.060       8.622\n",
       "x12            0.1460      0.077      1.906      0.057      -0.004       0.296\n",
       "x13           -0.3661      1.367     -0.268      0.789      -3.045       2.313\n",
       "x14           -2.0700      0.439     -4.711      0.000      -2.931      -1.209\n",
       "x15           11.0746      0.990     11.182      0.000       9.133      13.016\n",
       "x16           -6.4024      0.378    -16.959      0.000      -7.142      -5.662\n",
       "x17          -21.1951      1.872    -11.319      0.000     -24.865     -17.525\n",
       "x18           -2.0727      0.419     -4.943      0.000      -2.895      -1.251\n",
       "x19           -8.3297      1.603     -5.197      0.000     -11.471      -5.188\n",
       "x20            0.0785      0.110      0.717      0.474      -0.136       0.293\n",
       "x21           -0.2619      0.333     -0.788      0.431      -0.914       0.390\n",
       "x22            1.9925      0.357      5.588      0.000       1.294       2.691\n",
       "x23            0.1848      0.059      3.119      0.002       0.069       0.301\n",
       "x24            3.9531      1.520      2.601      0.009       0.974       6.932\n",
       "x25           -0.0436      0.047     -0.925      0.355      -0.136       0.049\n",
       "x26          -12.5759      1.781     -7.060      0.000     -16.067      -9.084\n",
       "x27            1.0901      0.361      3.017      0.003       0.382       1.798\n",
       "==============================================================================\n",
       "Omnibus:                    13799.743   Durbin-Watson:                   0.601\n",
       "Prob(Omnibus):                  0.000   Jarque-Bera (JB):           202481.634\n",
       "Skew:                           3.278   Prob(JB):                         0.00\n",
       "Kurtosis:                      17.257   Cond. No.                     1.10e+05\n",
       "==============================================================================\n",
       "\n",
       "Warnings:\n",
       "[1] Standard Errors assume that the covariance matrix of the errors is correctly specified.\n",
       "[2] The condition number is large, 1.1e+05. This might indicate that there are\n",
       "strong multicollinearity or other numerical problems.\n",
       "\"\"\""
      ]
     },
     "execution_count": 292,
     "metadata": {},
     "output_type": "execute_result"
    }
   ],
   "source": [
    "import statsmodels.formula.api as sm\n",
    "X = np.append(arr=np.ones((19735,1)).astype(int),values = X,axis = 1)\n",
    "X_opt = X[:,0:32]\n",
    "regressor_OLS = sm.OLS(endog = Y,exog = X_opt).fit()\n",
    "regressor_OLS.summary()"
   ]
  },
  {
   "cell_type": "code",
   "execution_count": 293,
   "metadata": {},
   "outputs": [
    {
     "data": {
      "text/plain": [
       "0.15051068206631391"
      ]
     },
     "execution_count": 293,
     "metadata": {},
     "output_type": "execute_result"
    }
   ],
   "source": [
    "regressor.score(X_test,Y_test)"
   ]
  },
  {
   "cell_type": "code",
   "execution_count": 230,
   "metadata": {},
   "outputs": [
    {
     "data": {
      "text/plain": [
       "0.16033855615153714"
      ]
     },
     "execution_count": 230,
     "metadata": {},
     "output_type": "execute_result"
    }
   ],
   "source": [
    "regressor.score(X_train,Y_train)"
   ]
  },
  {
   "cell_type": "markdown",
   "metadata": {},
   "source": [
    "### R-square,RMSE,MAE,MAPE (TRAINING DATA)¶"
   ]
  },
  {
   "cell_type": "code",
   "execution_count": 231,
   "metadata": {
    "collapsed": true
   },
   "outputs": [],
   "source": [
    "# Predicting the test set results\n",
    "train_pred =regressor.predict(X_train)\n",
    "\n",
    "##  MAPE\n",
    "import numpy as np\n",
    "def mean_absolute_percentage_error(Y_train,train_pred): \n",
    "    Y_train, train_pred = np.array(Y_train), np.array(train_pred)\n",
    "    return np.mean(np.abs((Y_train,train_pred) / Y_train)) * 100"
   ]
  },
  {
   "cell_type": "code",
   "execution_count": 232,
   "metadata": {},
   "outputs": [
    {
     "name": "stdout",
     "output_type": "stream",
     "text": [
      "MAE of Training Data = 54.8791980833\n",
      "RMSE of Training Data = 95.81636471985377\n",
      "R2 of Training Data = 0.160338556152\n",
      "MAPE of Training Data = 121.126774449\n"
     ]
    }
   ],
   "source": [
    "## R-squared score of this model\n",
    "from sklearn.metrics import*\n",
    "import math\n",
    "## Mean absolute error\n",
    "MAE = mean_absolute_error(Y_train,train_pred)\n",
    "print('MAE of Training Data =', MAE)\n",
    "## Mean squared error\n",
    "MSE = mean_squared_error(Y_train,train_pred)\n",
    "RMSE = math.sqrt(MSE)\n",
    "print('RMSE of Training Data =',RMSE)\n",
    "## R-square score of this model\n",
    "R2 = r2_score(Y_train,train_pred)\n",
    "print('R2 of Training Data =',R2)\n",
    "## MAPE of this model\n",
    "MAPE=mean_absolute_percentage_error(Y_train,train_pred)\n",
    "print('MAPE of Training Data =',MAPE)"
   ]
  },
  {
   "cell_type": "markdown",
   "metadata": {},
   "source": [
    "### R-square,RMSE,MAE,MAPE (TESTING DATA)¶¶"
   ]
  },
  {
   "cell_type": "code",
   "execution_count": 233,
   "metadata": {},
   "outputs": [],
   "source": [
    "## Predicting the test set results\n",
    "test_pred =regressor.predict(X_test)\n",
    "\n",
    "## MAPE\n",
    "import numpy as np\n",
    "def mean_absolute_percentage_error(Y_test,test_pred): \n",
    "    Y_test, test_pred = np.array(Y_test), np.array(test_pred)\n",
    "    return np.mean(np.abs((Y_test,test_pred) / Y_test)) * 100"
   ]
  },
  {
   "cell_type": "code",
   "execution_count": 234,
   "metadata": {},
   "outputs": [
    {
     "name": "stdout",
     "output_type": "stream",
     "text": [
      "MAE of Testing Data= 55.1613328747\n",
      "RMSE of Testing Data= 96.0730899330311\n",
      "R2 of Testing Data= 0.140401776372\n",
      "MAPE of Testing Data= 122.353307696\n"
     ]
    }
   ],
   "source": [
    "import math\n",
    "##Mean absolute error\n",
    "MAE = mean_absolute_error(Y_test,test_pred)\n",
    "print('MAE of Testing Data=',MAE)\n",
    "## Mean squared error\n",
    "MSE = mean_squared_error(Y_test,test_pred)\n",
    "RMSE = math.sqrt(MSE)\n",
    "print('RMSE of Testing Data=',RMSE)\n",
    "## R-square score of this model\n",
    "R2 = r2_score(Y_test,test_pred)\n",
    "print('R2 of Testing Data=',R2)\n",
    "## MAPE of this model\n",
    "MAPE=mean_absolute_percentage_error(Y_test,test_pred)\n",
    "print('MAPE of Testing Data=',MAPE)"
   ]
  },
  {
   "cell_type": "markdown",
   "metadata": {},
   "source": [
    "## FEATURE SELECTION AFTER BORUTA"
   ]
  },
  {
   "cell_type": "code",
   "execution_count": 235,
   "metadata": {},
   "outputs": [],
   "source": [
    "#tpot = TPOTRegressor(generations=5, population_size=50, verbosity=2)\n",
    "#tpot.fit(X_train, Y_train)\n",
    "#print(tpot.score(X_test, Y_test))\n",
    "#tpot.export('tpot_iris_pipeline.py')"
   ]
  },
  {
   "cell_type": "code",
   "execution_count": 236,
   "metadata": {
    "collapsed": true
   },
   "outputs": [],
   "source": [
    "## X are the varibles used for predictions\n",
    "## Y is the target\n",
    "X = dataset.iloc[:,[7,8,9,11,13,15,16,17,19,20,21,23,24,25,26,29]].values\n",
    "Y = dataset.iloc[:,3].values"
   ]
  },
  {
   "cell_type": "code",
   "execution_count": 237,
   "metadata": {},
   "outputs": [
    {
     "data": {
      "text/plain": [
       "LinearRegression(copy_X=True, fit_intercept=True, n_jobs=1, normalize=False)"
      ]
     },
     "execution_count": 237,
     "metadata": {},
     "output_type": "execute_result"
    }
   ],
   "source": [
    "## fitting multiple linear regression to the training set\n",
    "from sklearn.linear_model import LinearRegression\n",
    "regressor = LinearRegression()\n",
    "X_train, X_test, Y_train, Y_test = train_test_split(X, Y, test_size=0.2, random_state=np.random)\n",
    "regressor.fit(X_train,Y_train)"
   ]
  },
  {
   "cell_type": "code",
   "execution_count": 238,
   "metadata": {},
   "outputs": [
    {
     "data": {
      "text/html": [
       "<table class=\"simpletable\">\n",
       "<caption>OLS Regression Results</caption>\n",
       "<tr>\n",
       "  <th>Dep. Variable:</th>            <td>y</td>        <th>  R-squared:         </th>  <td>   0.115</td>  \n",
       "</tr>\n",
       "<tr>\n",
       "  <th>Model:</th>                   <td>OLS</td>       <th>  Adj. R-squared:    </th>  <td>   0.114</td>  \n",
       "</tr>\n",
       "<tr>\n",
       "  <th>Method:</th>             <td>Least Squares</td>  <th>  F-statistic:       </th>  <td>   159.9</td>  \n",
       "</tr>\n",
       "<tr>\n",
       "  <th>Date:</th>             <td>Fri, 16 Mar 2018</td> <th>  Prob (F-statistic):</th>   <td>  0.00</td>   \n",
       "</tr>\n",
       "<tr>\n",
       "  <th>Time:</th>                 <td>15:33:46</td>     <th>  Log-Likelihood:    </th> <td>-1.1853e+05</td>\n",
       "</tr>\n",
       "<tr>\n",
       "  <th>No. Observations:</th>      <td> 19735</td>      <th>  AIC:               </th>  <td>2.371e+05</td> \n",
       "</tr>\n",
       "<tr>\n",
       "  <th>Df Residuals:</th>          <td> 19718</td>      <th>  BIC:               </th>  <td>2.372e+05</td> \n",
       "</tr>\n",
       "<tr>\n",
       "  <th>Df Model:</th>              <td>    16</td>      <th>                     </th>      <td> </td>     \n",
       "</tr>\n",
       "<tr>\n",
       "  <th>Covariance Type:</th>      <td>nonrobust</td>    <th>                     </th>      <td> </td>     \n",
       "</tr>\n",
       "</table>\n",
       "<table class=\"simpletable\">\n",
       "<tr>\n",
       "    <td></td>       <th>coef</th>     <th>std err</th>      <th>t</th>      <th>P>|t|</th>  <th>[0.025</th>    <th>0.975]</th>  \n",
       "</tr>\n",
       "<tr>\n",
       "  <th>const</th> <td>  176.5734</td> <td>   90.297</td> <td>    1.955</td> <td> 0.051</td> <td>   -0.417</td> <td>  353.564</td>\n",
       "</tr>\n",
       "<tr>\n",
       "  <th>x1</th>    <td>   14.4408</td> <td>    0.607</td> <td>   23.779</td> <td> 0.000</td> <td>   13.251</td> <td>   15.631</td>\n",
       "</tr>\n",
       "<tr>\n",
       "  <th>x2</th>    <td>  -11.8819</td> <td>    0.988</td> <td>  -12.024</td> <td> 0.000</td> <td>  -13.819</td> <td>   -9.945</td>\n",
       "</tr>\n",
       "<tr>\n",
       "  <th>x3</th>    <td>  -11.9967</td> <td>    0.627</td> <td>  -19.142</td> <td> 0.000</td> <td>  -13.225</td> <td>  -10.768</td>\n",
       "</tr>\n",
       "<tr>\n",
       "  <th>x4</th>    <td>    7.2320</td> <td>    0.692</td> <td>   10.452</td> <td> 0.000</td> <td>    5.876</td> <td>    8.588</td>\n",
       "</tr>\n",
       "<tr>\n",
       "  <th>x5</th>    <td>    2.4861</td> <td>    0.573</td> <td>    4.340</td> <td> 0.000</td> <td>    1.363</td> <td>    3.609</td>\n",
       "</tr>\n",
       "<tr>\n",
       "  <th>x6</th>    <td>    0.2314</td> <td>    0.087</td> <td>    2.654</td> <td> 0.008</td> <td>    0.061</td> <td>    0.402</td>\n",
       "</tr>\n",
       "<tr>\n",
       "  <th>x7</th>    <td>    5.4992</td> <td>    0.619</td> <td>    8.878</td> <td> 0.000</td> <td>    4.285</td> <td>    6.713</td>\n",
       "</tr>\n",
       "<tr>\n",
       "  <th>x8</th>    <td>    0.3044</td> <td>    0.065</td> <td>    4.681</td> <td> 0.000</td> <td>    0.177</td> <td>    0.432</td>\n",
       "</tr>\n",
       "<tr>\n",
       "  <th>x9</th>    <td>   -2.7674</td> <td>    0.403</td> <td>   -6.862</td> <td> 0.000</td> <td>   -3.558</td> <td>   -1.977</td>\n",
       "</tr>\n",
       "<tr>\n",
       "  <th>x10</th>   <td>    9.1791</td> <td>    0.756</td> <td>   12.136</td> <td> 0.000</td> <td>    7.697</td> <td>   10.662</td>\n",
       "</tr>\n",
       "<tr>\n",
       "  <th>x11</th>   <td>   -5.2951</td> <td>    0.356</td> <td>  -14.874</td> <td> 0.000</td> <td>   -5.993</td> <td>   -4.597</td>\n",
       "</tr>\n",
       "<tr>\n",
       "  <th>x12</th>   <td>   -2.1600</td> <td>    0.399</td> <td>   -5.414</td> <td> 0.000</td> <td>   -2.942</td> <td>   -1.378</td>\n",
       "</tr>\n",
       "<tr>\n",
       "  <th>x13</th>   <td>   -9.4982</td> <td>    1.527</td> <td>   -6.220</td> <td> 0.000</td> <td>  -12.491</td> <td>   -6.505</td>\n",
       "</tr>\n",
       "<tr>\n",
       "  <th>x14</th>   <td>   -0.0339</td> <td>    0.105</td> <td>   -0.324</td> <td> 0.746</td> <td>   -0.239</td> <td>    0.171</td>\n",
       "</tr>\n",
       "<tr>\n",
       "  <th>x15</th>   <td>   -1.2144</td> <td>    0.311</td> <td>   -3.900</td> <td> 0.000</td> <td>   -1.825</td> <td>   -0.604</td>\n",
       "</tr>\n",
       "<tr>\n",
       "  <th>x16</th>   <td>    6.1321</td> <td>    1.489</td> <td>    4.119</td> <td> 0.000</td> <td>    3.214</td> <td>    9.050</td>\n",
       "</tr>\n",
       "</table>\n",
       "<table class=\"simpletable\">\n",
       "<tr>\n",
       "  <th>Omnibus:</th>       <td>13730.883</td> <th>  Durbin-Watson:     </th>  <td>   0.566</td> \n",
       "</tr>\n",
       "<tr>\n",
       "  <th>Prob(Omnibus):</th>  <td> 0.000</td>   <th>  Jarque-Bera (JB):  </th> <td>192661.331</td>\n",
       "</tr>\n",
       "<tr>\n",
       "  <th>Skew:</th>           <td> 3.274</td>   <th>  Prob(JB):          </th>  <td>    0.00</td> \n",
       "</tr>\n",
       "<tr>\n",
       "  <th>Kurtosis:</th>       <td>16.835</td>   <th>  Cond. No.          </th>  <td>9.96e+04</td> \n",
       "</tr>\n",
       "</table>"
      ],
      "text/plain": [
       "<class 'statsmodels.iolib.summary.Summary'>\n",
       "\"\"\"\n",
       "                            OLS Regression Results                            \n",
       "==============================================================================\n",
       "Dep. Variable:                      y   R-squared:                       0.115\n",
       "Model:                            OLS   Adj. R-squared:                  0.114\n",
       "Method:                 Least Squares   F-statistic:                     159.9\n",
       "Date:                Fri, 16 Mar 2018   Prob (F-statistic):               0.00\n",
       "Time:                        15:33:46   Log-Likelihood:            -1.1853e+05\n",
       "No. Observations:               19735   AIC:                         2.371e+05\n",
       "Df Residuals:                   19718   BIC:                         2.372e+05\n",
       "Df Model:                          16                                         \n",
       "Covariance Type:            nonrobust                                         \n",
       "==============================================================================\n",
       "                 coef    std err          t      P>|t|      [0.025      0.975]\n",
       "------------------------------------------------------------------------------\n",
       "const        176.5734     90.297      1.955      0.051      -0.417     353.564\n",
       "x1            14.4408      0.607     23.779      0.000      13.251      15.631\n",
       "x2           -11.8819      0.988    -12.024      0.000     -13.819      -9.945\n",
       "x3           -11.9967      0.627    -19.142      0.000     -13.225     -10.768\n",
       "x4             7.2320      0.692     10.452      0.000       5.876       8.588\n",
       "x5             2.4861      0.573      4.340      0.000       1.363       3.609\n",
       "x6             0.2314      0.087      2.654      0.008       0.061       0.402\n",
       "x7             5.4992      0.619      8.878      0.000       4.285       6.713\n",
       "x8             0.3044      0.065      4.681      0.000       0.177       0.432\n",
       "x9            -2.7674      0.403     -6.862      0.000      -3.558      -1.977\n",
       "x10            9.1791      0.756     12.136      0.000       7.697      10.662\n",
       "x11           -5.2951      0.356    -14.874      0.000      -5.993      -4.597\n",
       "x12           -2.1600      0.399     -5.414      0.000      -2.942      -1.378\n",
       "x13           -9.4982      1.527     -6.220      0.000     -12.491      -6.505\n",
       "x14           -0.0339      0.105     -0.324      0.746      -0.239       0.171\n",
       "x15           -1.2144      0.311     -3.900      0.000      -1.825      -0.604\n",
       "x16            6.1321      1.489      4.119      0.000       3.214       9.050\n",
       "==============================================================================\n",
       "Omnibus:                    13730.883   Durbin-Watson:                   0.566\n",
       "Prob(Omnibus):                  0.000   Jarque-Bera (JB):           192661.331\n",
       "Skew:                           3.274   Prob(JB):                         0.00\n",
       "Kurtosis:                      16.835   Cond. No.                     9.96e+04\n",
       "==============================================================================\n",
       "\n",
       "Warnings:\n",
       "[1] Standard Errors assume that the covariance matrix of the errors is correctly specified.\n",
       "[2] The condition number is large, 9.96e+04. This might indicate that there are\n",
       "strong multicollinearity or other numerical problems.\n",
       "\"\"\""
      ]
     },
     "execution_count": 238,
     "metadata": {},
     "output_type": "execute_result"
    }
   ],
   "source": [
    "import statsmodels.formula.api as sm\n",
    "X = np.append(arr=np.ones((19735,1)).astype(int),values = X,axis = 1)\n",
    "X_opt = X[:,0:32]\n",
    "regressor_OLS = sm.OLS(endog = Y,exog = X_opt).fit()\n",
    "regressor_OLS.summary()"
   ]
  },
  {
   "cell_type": "markdown",
   "metadata": {},
   "source": [
    "### R-square,RMSE,MAE,MAPE (TRAINING DATA) After Selecting Features(From Boruta)"
   ]
  },
  {
   "cell_type": "code",
   "execution_count": null,
   "metadata": {
    "collapsed": true
   },
   "outputs": [],
   "source": [
    "# Predicting the test set results\n",
    "train_pred =regressor.predict(X_train)\n",
    "\n",
    "##  MAPE\n",
    "import numpy as np\n",
    "def mean_absolute_percentage_error(Y_train,train_pred): \n",
    "    Y_train, train_pred = np.array(Y_train), np.array(train_pred)\n",
    "    return np.mean(np.abs((Y_train,train_pred) / Y_train)) * 100"
   ]
  },
  {
   "cell_type": "code",
   "execution_count": 262,
   "metadata": {},
   "outputs": [
    {
     "name": "stdout",
     "output_type": "stream",
     "text": [
      "MAE of Training Data = 70.2461417113\n",
      "RMSE of Training Data = 112.96096481830213\n",
      "R2 of Training Data = -0.163192594669\n",
      "MAPE of Training Data = 129.204229216\n"
     ]
    }
   ],
   "source": [
    "## R-squared score of this model\n",
    "from sklearn.metrics import*\n",
    "import math\n",
    "## Mean absolute error\n",
    "MAE = mean_absolute_error(Y_train,train_pred)\n",
    "print('MAE of Training Data =', MAE)\n",
    "## Mean squared error\n",
    "MSE = mean_squared_error(Y_train,train_pred)\n",
    "RMSE = math.sqrt(MSE)\n",
    "print('RMSE of Training Data =',RMSE)\n",
    "## R-square score of this model\n",
    "R2 = r2_score(Y_train,train_pred)\n",
    "print('R2 of Training Data =',R2)\n",
    "## MAPE of this model\n",
    "MAPE=mean_absolute_percentage_error(Y_train,train_pred)\n",
    "print('MAPE of Training Data =',MAPE)"
   ]
  },
  {
   "cell_type": "markdown",
   "metadata": {},
   "source": [
    "### R-square,RMSE,MAE,MAPE (TESTING DATA) After Selecting Features (From boruta)"
   ]
  },
  {
   "cell_type": "code",
   "execution_count": 263,
   "metadata": {
    "collapsed": true
   },
   "outputs": [],
   "source": [
    "## Predicting the test set results\n",
    "test_pred =regressor.predict(X_test)\n",
    "\n",
    "## MAPE\n",
    "import numpy as np\n",
    "def mean_absolute_percentage_error(Y_test,test_pred): \n",
    "    Y_test, test_pred = np.array(Y_test), np.array(test_pred)\n",
    "    return np.mean(np.abs((Y_test,test_pred) / Y_test)) * 100"
   ]
  },
  {
   "cell_type": "code",
   "execution_count": 264,
   "metadata": {},
   "outputs": [
    {
     "name": "stdout",
     "output_type": "stream",
     "text": [
      "MAE of Testing Data= 56.2796865285\n",
      "RMSE of Testing Data= 96.2497906300326\n",
      "R2 of Testing Data= 0.125543557022\n",
      "MAPE of Testing Data= 122.967874807\n"
     ]
    }
   ],
   "source": [
    "import math\n",
    "##Mean absolute error\n",
    "MAE = mean_absolute_error(Y_test,test_pred)\n",
    "print('MAE of Testing Data=',MAE)\n",
    "## Mean squared error\n",
    "MSE = mean_squared_error(Y_test,test_pred)\n",
    "RMSE = math.sqrt(MSE)\n",
    "print('RMSE of Testing Data=',RMSE)\n",
    "## R-square score of this model\n",
    "R2 = r2_score(Y_test,test_pred)\n",
    "print('R2 of Testing Data=',R2)\n",
    "## MAPE of this model\n",
    "MAPE=mean_absolute_percentage_error(Y_test,test_pred)\n",
    "print('MAPE of Testing Data=',MAPE)"
   ]
  },
  {
   "cell_type": "markdown",
   "metadata": {},
   "source": [
    "### FORWARD SELECTION"
   ]
  },
  {
   "cell_type": "code",
   "execution_count": 268,
   "metadata": {
    "collapsed": true
   },
   "outputs": [],
   "source": [
    "X1= dataset[[\n",
    "       'Kitchen_Temp', 'Kitchen_Hum', 'LivingRoom_Temp', 'LivingRoom_Hum',\n",
    "       'LaundryRoom_Temp', 'LaundryRoom_Hum', 'OfficeRoom_Temp',\n",
    "       'OfficeRoom_Hum', 'BathRoom_Temp', 'BathRoom_Hum', 'OutsideNorth_Temp',\n",
    "       'OutsideNorth_Hum', 'IroningRoom_Temp', 'IroningRoom_Hum',\n",
    "       'TeenagerRoom_Temp', 'TeenagerRoom_Hum', 'ParentRoom_Temp',\n",
    "       'ParentRoom_Hum', 'Outside_Temp', 'Pressure', 'Humidity', 'Windspeed',\n",
    "       'Visibility', 'Tdewpoint', 'rv1', 'Month_Number', 'Weekday_number']]"
   ]
  },
  {
   "cell_type": "code",
   "execution_count": 269,
   "metadata": {
    "collapsed": true
   },
   "outputs": [],
   "source": [
    "y1=dataset['Energy_consumed']"
   ]
  },
  {
   "cell_type": "code",
   "execution_count": 270,
   "metadata": {},
   "outputs": [
    {
     "name": "stdout",
     "output_type": "stream",
     "text": [
      "Add  LaundryRoom_Temp               with p-value 5.4523e-129\n",
      "resulting features:\n",
      "['LaundryRoom_Temp']\n"
     ]
    }
   ],
   "source": [
    "import statsmodels.api as sm\n",
    "def stepwise_selection(X1, y1, \n",
    "                       initial_list=[], \n",
    "                       threshold_in=0.01, \n",
    "                       threshold_out = 0.05, \n",
    "                       verbose=True):\n",
    "    \"\"\" Perform a forward-backward feature selection \n",
    "    based on p-value from statsmodels.api.OLS\n",
    "    Arguments:\n",
    "        X - pandas.DataFrame with candidate features\n",
    "        y - list-like with the target\n",
    "        initial_list - list of features to start with (column names of X)\n",
    "        threshold_in - include a feature if its p-value < threshold_in\n",
    "        threshold_out - exclude a feature if its p-value > threshold_out\n",
    "        verbose - whether to print the sequence of inclusions and exclusions\n",
    "    Returns: list of selected features \n",
    "    Always set threshold_in < threshold_out to avoid infinite looping.\n",
    "    \"\"\"\n",
    "    included = list(initial_list)\n",
    "    while True:\n",
    "        changed=False\n",
    "        # forward step\n",
    "        excluded = list(set(X1.columns)-set(included))\n",
    "        new_pval = pd.Series(index=excluded)\n",
    "        for new_column in excluded:\n",
    "            model = sm.OLS(y1, sm.add_constant(X1)).fit()\n",
    "            new_pval[new_column] = model.pvalues[new_column]\n",
    "        best_pval = new_pval.min()\n",
    "        if best_pval < threshold_in:\n",
    "            best_feature = new_pval.argmin()\n",
    "            included.append(best_feature)\n",
    "            changed=True\n",
    "            if verbose:\n",
    "                print('Add  {:30} with p-value {:.6}'.format(best_feature, best_pval))\n",
    "            if not changed:\n",
    "                break\n",
    "            return included\n",
    "\n",
    "result = stepwise_selection(X1, y1)\n",
    "\n",
    "print('resulting features:')\n",
    "print(result)    \n"
   ]
  },
  {
   "cell_type": "markdown",
   "metadata": {},
   "source": [
    "By using Forward selection method we only get one variable as an important feature. So wwe will try backward Elimination"
   ]
  },
  {
   "cell_type": "markdown",
   "metadata": {},
   "source": [
    "### BACKWARD ELIMINATION METHOD"
   ]
  },
  {
   "cell_type": "code",
   "execution_count": 271,
   "metadata": {},
   "outputs": [
    {
     "name": "stdout",
     "output_type": "stream",
     "text": [
      "resulting features:\n",
      "[]\n"
     ]
    }
   ],
   "source": [
    "import statsmodels.api as sm\n",
    "def stepwise_selection(X1, y1, \n",
    "                       initial_list=[], \n",
    "                       threshold_in=0.01, \n",
    "                       threshold_out = 0.05, \n",
    "                       verbose=True):\n",
    "        included = list(initial_list)\n",
    "        while True:\n",
    "            changed=False\n",
    "import statsmodels.api as sm\n",
    "def stepwise_selection(X1, y1, \n",
    "                       initial_list=[], \n",
    "                       threshold_in=0.01, \n",
    "                       threshold_out = 0.05, \n",
    "                       verbose=True):\n",
    "    \"\"\" Perform a forward-backward feature selection \n",
    "    based on p-value from statsmodels.api.OLS\n",
    "    Arguments:\n",
    "        X - pandas.DataFrame with candidate features\n",
    "        y - list-like with the target\n",
    "        initial_list - list of features to start with (column names of X)\n",
    "        threshold_in - include a feature if its p-value < threshold_in\n",
    "        threshold_out - exclude a feature if its p-value > threshold_out\n",
    "        verbose - whether to print the sequence of inclusions and exclusions\n",
    "    Returns: list of selected features \n",
    "    Always set threshold_in < threshold_out to avoid infinite looping.\n",
    "    \"\"\"\n",
    "    included = list(initial_list)\n",
    "    while True:\n",
    "        changed=False\n",
    "         # backward step\n",
    "        model = sm.OLS(y1, sm.add_constant(pd.DataFrame(X1[included]))).fit()\n",
    "        # use all coefs except intercept\n",
    "        pvalues = model.pvalues.iloc[1:]\n",
    "        worst_pval = pvalues.max() # null if pvalues is empty\n",
    "        if worst_pval > threshold_out:\n",
    "            changed=True\n",
    "            worst_feature = pvalues.argmax()\n",
    "            included.remove(worst_feature)\n",
    "            if verbose:\n",
    "                print('Drop {:30} with p-value {:.6}'.format(worst_feature, worst_pval))\n",
    "        if not changed:\n",
    "            break\n",
    "    return included\n",
    "\n",
    "result = stepwise_selection(X1, y1)\n",
    "\n",
    "print('resulting features:')\n",
    "print(result)\n",
    "    "
   ]
  },
  {
   "cell_type": "markdown",
   "metadata": {},
   "source": [
    "By using Backward Elimination method we do not get any variable as an important feature.We will now try Exhaustive Search Method which is a combination of both forward selection and backward Elmination method"
   ]
  },
  {
   "cell_type": "markdown",
   "metadata": {},
   "source": [
    "### EXHAUSTIVE SEARCH METHOD"
   ]
  },
  {
   "cell_type": "code",
   "execution_count": 272,
   "metadata": {},
   "outputs": [
    {
     "name": "stdout",
     "output_type": "stream",
     "text": [
      "Add  Humidity                       with p-value 2.22825e-92\n",
      "Add  Kitchen_Hum                    with p-value 1.2589e-85\n",
      "Add  TeenagerRoom_Hum               with p-value 4.48028e-143\n",
      "Add  LivingRoom_Hum                 with p-value 1.8353e-101\n",
      "Add  Month_Number                   with p-value 1.90285e-35\n",
      "Drop Humidity                       with p-value 0.616498\n",
      "Add  LaundryRoom_Temp               with p-value 6.44506e-75\n",
      "Add  ParentRoom_Temp                with p-value 4.20613e-71\n",
      "Add  LivingRoom_Temp                with p-value 7.6848e-31\n",
      "Add  TeenagerRoom_Temp              with p-value 1.32161e-32\n",
      "Add  OutsideNorth_Temp              with p-value 7.97415e-23\n",
      "Add  Outside_Temp                   with p-value 5.87504e-15\n",
      "Add  Windspeed                      with p-value 1.05919e-06\n",
      "Add  OfficeRoom_Temp                with p-value 9.88067e-08\n",
      "Add  Tdewpoint                      with p-value 7.5834e-08\n",
      "Add  LaundryRoom_Hum                with p-value 1.27303e-08\n",
      "Add  ParentRoom_Hum                 with p-value 8.99433e-09\n",
      "Add  IroningRoom_Hum                with p-value 2.88288e-06\n",
      "Add  OfficeRoom_Hum                 with p-value 7.25068e-05\n",
      "Add  BathRoom_Hum                   with p-value 0.00187506\n",
      "Add  Visibility                     with p-value 0.00280772\n",
      "Add  Weekday_number                 with p-value 0.00297726\n",
      "resulting features:\n",
      "['Kitchen_Hum', 'TeenagerRoom_Hum', 'LivingRoom_Hum', 'Month_Number', 'LaundryRoom_Temp', 'ParentRoom_Temp', 'LivingRoom_Temp', 'TeenagerRoom_Temp', 'OutsideNorth_Temp', 'Outside_Temp', 'Windspeed', 'OfficeRoom_Temp', 'Tdewpoint', 'LaundryRoom_Hum', 'ParentRoom_Hum', 'IroningRoom_Hum', 'OfficeRoom_Hum', 'BathRoom_Hum', 'Visibility', 'Weekday_number']\n"
     ]
    }
   ],
   "source": [
    "import statsmodels.api as sm\n",
    "def stepwise_selection(X1, y1, \n",
    "                       initial_list=[], \n",
    "                       threshold_in=0.01, \n",
    "                       threshold_out = 0.05, \n",
    "                       verbose=True):\n",
    "    \"\"\" Perform a forward-backward feature selection \n",
    "    based on p-value from statsmodels.api.OLS\n",
    "    Arguments:\n",
    "        X - pandas.DataFrame with candidate features\n",
    "        y - list-like with the target\n",
    "        initial_list - list of features to start with (column names of X)\n",
    "        threshold_in - include a feature if its p-value < threshold_in\n",
    "        threshold_out - exclude a feature if its p-value > threshold_out\n",
    "        verbose - whether to print the sequence of inclusions and exclusions\n",
    "    Returns: list of selected features \n",
    "    Always set threshold_in < threshold_out to avoid infinite looping.\n",
    "    \"\"\"\n",
    "    included = list(initial_list)\n",
    "    while True:\n",
    "        changed=False\n",
    "        # forward step\n",
    "        excluded = list(set(X1.columns)-set(included))\n",
    "        new_pval = pd.Series(index=excluded)\n",
    "        for new_column in excluded:\n",
    "            model = sm.OLS(y1, sm.add_constant(pd.DataFrame(X1[included+[new_column]]))).fit()\n",
    "            new_pval[new_column] = model.pvalues[new_column]\n",
    "        best_pval = new_pval.min()\n",
    "        if best_pval < threshold_in:\n",
    "            best_feature = new_pval.argmin()\n",
    "            included.append(best_feature)\n",
    "            changed=True\n",
    "            if verbose:\n",
    "                print('Add  {:30} with p-value {:.6}'.format(best_feature, best_pval))\n",
    "\n",
    "        # backward step\n",
    "        model = sm.OLS(y1, sm.add_constant(pd.DataFrame(X1[included]))).fit()\n",
    "        # use all coefs except intercept\n",
    "        pvalues = model.pvalues.iloc[1:]\n",
    "        worst_pval = pvalues.max() # null if pvalues is empty\n",
    "        if worst_pval > threshold_out:\n",
    "            changed=True\n",
    "            worst_feature = pvalues.argmax()\n",
    "            included.remove(worst_feature)\n",
    "            if verbose:\n",
    "                print('Drop {:30} with p-value {:.6}'.format(worst_feature, worst_pval))\n",
    "        if not changed:\n",
    "            break\n",
    "    return included\n",
    "\n",
    "result = stepwise_selection(X1, y1)\n",
    "\n",
    "print('resulting features:')\n",
    "print(result)"
   ]
  },
  {
   "cell_type": "markdown",
   "metadata": {},
   "source": [
    "### FEATURE SELECTION AFTER EXHAUSTIVE SEARCH"
   ]
  },
  {
   "cell_type": "code",
   "execution_count": 278,
   "metadata": {},
   "outputs": [
    {
     "data": {
      "text/plain": [
       "array([ 90,  90,  80, ..., 280, 430, 440], dtype=int64)"
      ]
     },
     "execution_count": 278,
     "metadata": {},
     "output_type": "execute_result"
    }
   ],
   "source": [
    "## X are the varibles used for predictions\n",
    "## Y is the target\n",
    "X = dataset.iloc[:,[7,21,9,31,10,22,8,20,16,24,27,12,29,11,23,19,13,15,28,32]].values\n",
    "Y = dataset.iloc[:,3].values\n",
    "Y"
   ]
  },
  {
   "cell_type": "code",
   "execution_count": 279,
   "metadata": {},
   "outputs": [
    {
     "data": {
      "text/plain": [
       "LinearRegression(copy_X=True, fit_intercept=True, n_jobs=1, normalize=False)"
      ]
     },
     "execution_count": 279,
     "metadata": {},
     "output_type": "execute_result"
    }
   ],
   "source": [
    "## fitting multiple linear regression to the training set\n",
    "from sklearn.linear_model import LinearRegression\n",
    "regressor = LinearRegression()\n",
    "X_train, X_test, Y_train, Y_test = train_test_split(X, Y, test_size=0.2, random_state=np.random)\n",
    "regressor.fit(X_train,Y_train)"
   ]
  },
  {
   "cell_type": "code",
   "execution_count": 280,
   "metadata": {},
   "outputs": [
    {
     "data": {
      "text/html": [
       "<table class=\"simpletable\">\n",
       "<caption>OLS Regression Results</caption>\n",
       "<tr>\n",
       "  <th>Dep. Variable:</th>            <td>y</td>        <th>  R-squared:         </th>  <td>   0.156</td>  \n",
       "</tr>\n",
       "<tr>\n",
       "  <th>Model:</th>                   <td>OLS</td>       <th>  Adj. R-squared:    </th>  <td>   0.156</td>  \n",
       "</tr>\n",
       "<tr>\n",
       "  <th>Method:</th>             <td>Least Squares</td>  <th>  F-statistic:       </th>  <td>   182.9</td>  \n",
       "</tr>\n",
       "<tr>\n",
       "  <th>Date:</th>             <td>Fri, 16 Mar 2018</td> <th>  Prob (F-statistic):</th>   <td>  0.00</td>   \n",
       "</tr>\n",
       "<tr>\n",
       "  <th>Time:</th>                 <td>17:30:49</td>     <th>  Log-Likelihood:    </th> <td>-1.1805e+05</td>\n",
       "</tr>\n",
       "<tr>\n",
       "  <th>No. Observations:</th>      <td> 19735</td>      <th>  AIC:               </th>  <td>2.361e+05</td> \n",
       "</tr>\n",
       "<tr>\n",
       "  <th>Df Residuals:</th>          <td> 19714</td>      <th>  BIC:               </th>  <td>2.363e+05</td> \n",
       "</tr>\n",
       "<tr>\n",
       "  <th>Df Model:</th>              <td>    20</td>      <th>                     </th>      <td> </td>     \n",
       "</tr>\n",
       "<tr>\n",
       "  <th>Covariance Type:</th>      <td>nonrobust</td>    <th>                     </th>      <td> </td>     \n",
       "</tr>\n",
       "</table>\n",
       "<table class=\"simpletable\">\n",
       "<tr>\n",
       "    <td></td>       <th>coef</th>     <th>std err</th>      <th>t</th>      <th>P>|t|</th>  <th>[0.025</th>    <th>0.975]</th>  \n",
       "</tr>\n",
       "<tr>\n",
       "  <th>const</th> <td>   68.9145</td> <td>   21.247</td> <td>    3.243</td> <td> 0.001</td> <td>   27.268</td> <td>  110.561</td>\n",
       "</tr>\n",
       "<tr>\n",
       "  <th>x1</th>    <td>   16.5993</td> <td>    0.593</td> <td>   27.987</td> <td> 0.000</td> <td>   15.437</td> <td>   17.762</td>\n",
       "</tr>\n",
       "<tr>\n",
       "  <th>x2</th>    <td>   -6.3374</td> <td>    0.352</td> <td>  -17.985</td> <td> 0.000</td> <td>   -7.028</td> <td>   -5.647</td>\n",
       "</tr>\n",
       "<tr>\n",
       "  <th>x3</th>    <td>  -14.7608</td> <td>    0.701</td> <td>  -21.043</td> <td> 0.000</td> <td>  -16.136</td> <td>  -13.386</td>\n",
       "</tr>\n",
       "<tr>\n",
       "  <th>x4</th>    <td>  -13.7872</td> <td>    1.575</td> <td>   -8.752</td> <td> 0.000</td> <td>  -16.875</td> <td>  -10.699</td>\n",
       "</tr>\n",
       "<tr>\n",
       "  <th>x5</th>    <td>   26.1841</td> <td>    0.971</td> <td>   26.962</td> <td> 0.000</td> <td>   24.281</td> <td>   28.088</td>\n",
       "</tr>\n",
       "<tr>\n",
       "  <th>x6</th>    <td>  -21.1869</td> <td>    1.410</td> <td>  -15.023</td> <td> 0.000</td> <td>  -23.951</td> <td>  -18.423</td>\n",
       "</tr>\n",
       "<tr>\n",
       "  <th>x7</th>    <td>  -21.7919</td> <td>    1.270</td> <td>  -17.160</td> <td> 0.000</td> <td>  -24.281</td> <td>  -19.303</td>\n",
       "</tr>\n",
       "<tr>\n",
       "  <th>x8</th>    <td>   10.7774</td> <td>    0.840</td> <td>   12.825</td> <td> 0.000</td> <td>    9.130</td> <td>   12.425</td>\n",
       "</tr>\n",
       "<tr>\n",
       "  <th>x9</th>    <td>    6.9340</td> <td>    0.578</td> <td>   12.000</td> <td> 0.000</td> <td>    5.801</td> <td>    8.067</td>\n",
       "</tr>\n",
       "<tr>\n",
       "  <th>x10</th>   <td>   -7.3178</td> <td>    0.657</td> <td>  -11.145</td> <td> 0.000</td> <td>   -8.605</td> <td>   -6.031</td>\n",
       "</tr>\n",
       "<tr>\n",
       "  <th>x11</th>   <td>    1.9457</td> <td>    0.333</td> <td>    5.845</td> <td> 0.000</td> <td>    1.293</td> <td>    2.598</td>\n",
       "</tr>\n",
       "<tr>\n",
       "  <th>x12</th>   <td>    6.8767</td> <td>    0.973</td> <td>    7.067</td> <td> 0.000</td> <td>    4.969</td> <td>    8.784</td>\n",
       "</tr>\n",
       "<tr>\n",
       "  <th>x13</th>   <td>    3.2450</td> <td>    0.533</td> <td>    6.086</td> <td> 0.000</td> <td>    2.200</td> <td>    4.290</td>\n",
       "</tr>\n",
       "<tr>\n",
       "  <th>x14</th>   <td>    4.6295</td> <td>    0.690</td> <td>    6.708</td> <td> 0.000</td> <td>    3.277</td> <td>    5.982</td>\n",
       "</tr>\n",
       "<tr>\n",
       "  <th>x15</th>   <td>   -2.0383</td> <td>    0.403</td> <td>   -5.064</td> <td> 0.000</td> <td>   -2.827</td> <td>   -1.249</td>\n",
       "</tr>\n",
       "<tr>\n",
       "  <th>x16</th>   <td>   -2.1319</td> <td>    0.397</td> <td>   -5.371</td> <td> 0.000</td> <td>   -2.910</td> <td>   -1.354</td>\n",
       "</tr>\n",
       "<tr>\n",
       "  <th>x17</th>   <td>    2.6009</td> <td>    0.636</td> <td>    4.088</td> <td> 0.000</td> <td>    1.354</td> <td>    3.848</td>\n",
       "</tr>\n",
       "<tr>\n",
       "  <th>x18</th>   <td>    0.2729</td> <td>    0.086</td> <td>    3.184</td> <td> 0.001</td> <td>    0.105</td> <td>    0.441</td>\n",
       "</tr>\n",
       "<tr>\n",
       "  <th>x19</th>   <td>    0.1886</td> <td>    0.059</td> <td>    3.197</td> <td> 0.001</td> <td>    0.073</td> <td>    0.304</td>\n",
       "</tr>\n",
       "<tr>\n",
       "  <th>x20</th>   <td>    1.0697</td> <td>    0.360</td> <td>    2.970</td> <td> 0.003</td> <td>    0.364</td> <td>    1.776</td>\n",
       "</tr>\n",
       "</table>\n",
       "<table class=\"simpletable\">\n",
       "<tr>\n",
       "  <th>Omnibus:</th>       <td>13805.349</td> <th>  Durbin-Watson:     </th>  <td>   0.601</td> \n",
       "</tr>\n",
       "<tr>\n",
       "  <th>Prob(Omnibus):</th>  <td> 0.000</td>   <th>  Jarque-Bera (JB):  </th> <td>202718.842</td>\n",
       "</tr>\n",
       "<tr>\n",
       "  <th>Skew:</th>           <td> 3.279</td>   <th>  Prob(JB):          </th>  <td>    0.00</td> \n",
       "</tr>\n",
       "<tr>\n",
       "  <th>Kurtosis:</th>       <td>17.266</td>   <th>  Cond. No.          </th>  <td>4.14e+03</td> \n",
       "</tr>\n",
       "</table>"
      ],
      "text/plain": [
       "<class 'statsmodels.iolib.summary.Summary'>\n",
       "\"\"\"\n",
       "                            OLS Regression Results                            \n",
       "==============================================================================\n",
       "Dep. Variable:                      y   R-squared:                       0.156\n",
       "Model:                            OLS   Adj. R-squared:                  0.156\n",
       "Method:                 Least Squares   F-statistic:                     182.9\n",
       "Date:                Fri, 16 Mar 2018   Prob (F-statistic):               0.00\n",
       "Time:                        17:30:49   Log-Likelihood:            -1.1805e+05\n",
       "No. Observations:               19735   AIC:                         2.361e+05\n",
       "Df Residuals:                   19714   BIC:                         2.363e+05\n",
       "Df Model:                          20                                         \n",
       "Covariance Type:            nonrobust                                         \n",
       "==============================================================================\n",
       "                 coef    std err          t      P>|t|      [0.025      0.975]\n",
       "------------------------------------------------------------------------------\n",
       "const         68.9145     21.247      3.243      0.001      27.268     110.561\n",
       "x1            16.5993      0.593     27.987      0.000      15.437      17.762\n",
       "x2            -6.3374      0.352    -17.985      0.000      -7.028      -5.647\n",
       "x3           -14.7608      0.701    -21.043      0.000     -16.136     -13.386\n",
       "x4           -13.7872      1.575     -8.752      0.000     -16.875     -10.699\n",
       "x5            26.1841      0.971     26.962      0.000      24.281      28.088\n",
       "x6           -21.1869      1.410    -15.023      0.000     -23.951     -18.423\n",
       "x7           -21.7919      1.270    -17.160      0.000     -24.281     -19.303\n",
       "x8            10.7774      0.840     12.825      0.000       9.130      12.425\n",
       "x9             6.9340      0.578     12.000      0.000       5.801       8.067\n",
       "x10           -7.3178      0.657    -11.145      0.000      -8.605      -6.031\n",
       "x11            1.9457      0.333      5.845      0.000       1.293       2.598\n",
       "x12            6.8767      0.973      7.067      0.000       4.969       8.784\n",
       "x13            3.2450      0.533      6.086      0.000       2.200       4.290\n",
       "x14            4.6295      0.690      6.708      0.000       3.277       5.982\n",
       "x15           -2.0383      0.403     -5.064      0.000      -2.827      -1.249\n",
       "x16           -2.1319      0.397     -5.371      0.000      -2.910      -1.354\n",
       "x17            2.6009      0.636      4.088      0.000       1.354       3.848\n",
       "x18            0.2729      0.086      3.184      0.001       0.105       0.441\n",
       "x19            0.1886      0.059      3.197      0.001       0.073       0.304\n",
       "x20            1.0697      0.360      2.970      0.003       0.364       1.776\n",
       "==============================================================================\n",
       "Omnibus:                    13805.349   Durbin-Watson:                   0.601\n",
       "Prob(Omnibus):                  0.000   Jarque-Bera (JB):           202718.842\n",
       "Skew:                           3.279   Prob(JB):                         0.00\n",
       "Kurtosis:                      17.266   Cond. No.                     4.14e+03\n",
       "==============================================================================\n",
       "\n",
       "Warnings:\n",
       "[1] Standard Errors assume that the covariance matrix of the errors is correctly specified.\n",
       "[2] The condition number is large, 4.14e+03. This might indicate that there are\n",
       "strong multicollinearity or other numerical problems.\n",
       "\"\"\""
      ]
     },
     "execution_count": 280,
     "metadata": {},
     "output_type": "execute_result"
    }
   ],
   "source": [
    "import statsmodels.formula.api as sm\n",
    "X = np.append(arr=np.ones((19735,1)).astype(int),values = X,axis = 1)\n",
    "X_opt = X[:,0:32]\n",
    "regressor_OLS = sm.OLS(endog = Y,exog = X_opt).fit()\n",
    "regressor_OLS.summary()"
   ]
  },
  {
   "cell_type": "markdown",
   "metadata": {},
   "source": [
    "### R-square,RMSE,MAE,MAPE (TRAINING DATA) After Selecting Features from Exhaustive search"
   ]
  },
  {
   "cell_type": "code",
   "execution_count": 281,
   "metadata": {
    "collapsed": true
   },
   "outputs": [],
   "source": [
    "# Predicting the test set results\n",
    "train_pred =regressor.predict(X_train)\n",
    "\n",
    "##  MAPE\n",
    "import numpy as np\n",
    "def mean_absolute_percentage_error(Y_train,train_pred): \n",
    "    Y_train, train_pred = np.array(Y_train), np.array(train_pred)\n",
    "    return np.mean(np.abs((Y_train,train_pred) / Y_train)) * 100"
   ]
  },
  {
   "cell_type": "code",
   "execution_count": 282,
   "metadata": {},
   "outputs": [
    {
     "name": "stdout",
     "output_type": "stream",
     "text": [
      "MAE of Training Data = 54.3393952879\n",
      "RMSE of Training Data = 95.32743306844182\n",
      "R2 of Training Data = 0.158198751503\n",
      "MAPE of Training Data = 121.118234923\n"
     ]
    }
   ],
   "source": [
    "## R-squared score of this model\n",
    "from sklearn.metrics import*\n",
    "import math\n",
    "## Mean absolute error\n",
    "MAE = mean_absolute_error(Y_train,train_pred)\n",
    "print('MAE of Training Data =', MAE)\n",
    "## Mean squared error\n",
    "MSE = mean_squared_error(Y_train,train_pred)\n",
    "RMSE = math.sqrt(MSE)\n",
    "print('RMSE of Training Data =',RMSE)\n",
    "## R-square score of this model\n",
    "R2 = r2_score(Y_train,train_pred)\n",
    "print('R2 of Training Data =',R2)\n",
    "## MAPE of this model\n",
    "MAPE=mean_absolute_percentage_error(Y_train,train_pred)\n",
    "print('MAPE of Training Data =',MAPE)"
   ]
  },
  {
   "cell_type": "markdown",
   "metadata": {},
   "source": [
    "### R-square,RMSE,MAE,MAPE (TESTING DATA) After Selecting Features from Exhaustive search"
   ]
  },
  {
   "cell_type": "code",
   "execution_count": 283,
   "metadata": {
    "collapsed": true
   },
   "outputs": [],
   "source": [
    "## Predicting the test set results\n",
    "test_pred =regressor.predict(X_test)\n",
    "\n",
    "## MAPE\n",
    "import numpy as np\n",
    "def mean_absolute_percentage_error(Y_test,test_pred): \n",
    "    Y_test, test_pred = np.array(Y_test), np.array(test_pred)\n",
    "    return np.mean(np.abs((Y_test,test_pred) / Y_test)) * 100"
   ]
  },
  {
   "cell_type": "code",
   "execution_count": 284,
   "metadata": {},
   "outputs": [
    {
     "name": "stdout",
     "output_type": "stream",
     "text": [
      "MAE of Testing Data= 55.4967939596\n",
      "RMSE of Testing Data= 98.04630816693702\n",
      "R2 of Testing Data= 0.148423785338\n",
      "MAPE of Testing Data= 119.996039667\n"
     ]
    }
   ],
   "source": [
    "import math\n",
    "##Mean absolute error\n",
    "MAE = mean_absolute_error(Y_test,test_pred)\n",
    "print('MAE of Testing Data=',MAE)\n",
    "## Mean squared error\n",
    "MSE = mean_squared_error(Y_test,test_pred)\n",
    "RMSE = math.sqrt(MSE)\n",
    "print('RMSE of Testing Data=',RMSE)\n",
    "## R-square score of this model\n",
    "R2 = r2_score(Y_test,test_pred)\n",
    "print('R2 of Testing Data=',R2)\n",
    "## MAPE of this model\n",
    "MAPE=mean_absolute_percentage_error(Y_test,test_pred)\n",
    "print('MAPE of Testing Data=',MAPE)"
   ]
  },
  {
   "cell_type": "code",
   "execution_count": null,
   "metadata": {
    "collapsed": true
   },
   "outputs": [],
   "source": []
  }
 ],
 "metadata": {
  "kernelspec": {
   "display_name": "Python 3",
   "language": "python",
   "name": "python3"
  },
  "language_info": {
   "codemirror_mode": {
    "name": "ipython",
    "version": 3
   },
   "file_extension": ".py",
   "mimetype": "text/x-python",
   "name": "python",
   "nbconvert_exporter": "python",
   "pygments_lexer": "ipython3",
   "version": "3.6.3"
  }
 },
 "nbformat": 4,
 "nbformat_minor": 2
}
