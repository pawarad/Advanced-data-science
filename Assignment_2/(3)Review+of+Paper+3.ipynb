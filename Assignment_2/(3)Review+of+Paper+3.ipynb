{
 "cells": [
  {
   "cell_type": "markdown",
   "metadata": {
    "collapsed": true
   },
   "source": [
    "# Paper Review 3\n",
    "\n",
    "> **Title** - &nbsp;&nbsp;&nbsp;&nbsp;&nbsp;&nbsp; <a href='https://www.sciencedirect.com/science/article/pii/S0360544212002903\n",
    "'> Prediction of appliances energy use in smart homes</a> <br>\n",
    "> **Authors** - &nbsp;Nicoleta &nbsp;Arghiraab &nbsp; LamisHawaraha &nbsp; StéphanePloixa &nbsp; MireilleJacomino"
   ]
  },
  {
   "cell_type": "markdown",
   "metadata": {},
   "source": [
    "---"
   ]
  },
  {
   "cell_type": "markdown",
   "metadata": {
    "collapsed": true
   },
   "source": [
    "## Ratings Of Paper\n",
    "A score between 0 to 5 with 0 being the least\n",
    "\n",
    "<tb>\n",
    " <td>   \n",
    "- Originality of the paper  [4.5]\n",
    " </td>\n",
    "    \n",
    " <td>   \n",
    "- Technical soundness  [4.5]\n",
    " </td>\n",
    " \n",
    " <td>  \n",
    "- Clarity of presentation  [3.5]\n",
    " </td>\n",
    " \n",
    " <td>  \n",
    "- Relevance  [4]\n",
    " </td>\n",
    "\n",
    " <td>  \n",
    "- Significance [5]\n",
    " </td>\n",
    "</tb>    "
   ]
  },
  {
   "cell_type": "markdown",
   "metadata": {
    "collapsed": true
   },
   "source": [
    "### Title, Keywords, and Article History \n",
    "The title has a good description after reading it gives a good overview of the article.The keywords used is also point accurate as they have described and discussed about key words which are highlight of the topic."
   ]
  },
  {
   "cell_type": "markdown",
   "metadata": {
    "collapsed": true
   },
   "source": [
    "## <u>Abstract</u>"
   ]
  },
  {
   "cell_type": "markdown",
   "metadata": {
    "collapsed": true
   },
   "source": [
    "The main analyis of the research document is to predict the next day energy comsumption by devices at home.\n",
    "The document has also stated what and how this anaysis has been performed to get results and what are the various methods implemneted to perform the analysis and how doing will benefit the home automation system and energy conservation."
   ]
  },
  {
   "cell_type": "markdown",
   "metadata": {
    "collapsed": true
   },
   "source": [
    "##  <u>Introduction</u> "
   ]
  },
  {
   "cell_type": "markdown",
   "metadata": {
    "collapsed": true
   },
   "source": [
    "It describes how next day prediction methods would help in Home Automation system analysis of energy, it would be a great measuring value to consider to do load balancing. The document has a good cohesive description on the hypothesis that is being considered and what methods are being implemented to achieve those results."
   ]
  },
  {
   "cell_type": "markdown",
   "metadata": {
    "collapsed": true
   },
   "source": [
    "## <u>Need for Energy Prediction in housing </u>"
   ]
  },
  {
   "cell_type": "markdown",
   "metadata": {
    "collapsed": true
   },
   "source": [
    ">### SMART GRID:\n",
    "\n",
    ">A good description of what is SMART Grid systems has been provided in the document.It states how 2 way communication between a device and the energy source generator would be the next big thing in energy conservation measures. The key components of smart grid, the concept of load balancing and its impact have been explained.\n",
    "Also strategies of implementing smart grid methods to manage customer demands has been explained with 2 approaches namely :Direct control & Control by cost methodology.\n",
    "\n",
    ">1] In the Direct control approach is increase in energy demand leds to increase of energy generation.<br>\n",
    ">2] In the Control by cost approach the prices are increased of the intervals when there is a greater demand of energy requirement.\n",
    "\n",
    "> A neat discrption of both the methodologies have been provided.\n",
    "Also alternate energy markets have been described and their importance for future energy production has been discussed\n"
   ]
  },
  {
   "cell_type": "markdown",
   "metadata": {},
   "source": [
    "## <u> The importance of the energy prediction in smart grids </u>"
   ]
  },
  {
   "cell_type": "markdown",
   "metadata": {},
   "source": [
    "Here, the author has firstly tried to explain why it is necassary to do prediction of the residential sector. It can be seen that the data obtained has lot of incomplete and unanswered question and the analysis is not possible with such inaccuracies. One prime reason of not being able to predict next day's consumption is the user's behaviour which is a very fluctuating and unreliable factor which cannot be manipulated or influnenced completely, as that nature is influenced because of external factors. For this reason the concept of Home Automation along with Smart grid if implemented proper would be a right fit to be able to make a better output analysis.The author has tried doing an analysis from a micro to macro level  by considering some features as it would be able to tell us in much greater depth which is the most used appliance in the house, using which energy consumption analysis can be done. "
   ]
  },
  {
   "cell_type": "markdown",
   "metadata": {},
   "source": [
    "## <u>Energy Prediction methodology for appliances in homes </u> "
   ]
  },
  {
   "cell_type": "markdown",
   "metadata": {},
   "source": [
    "The author has given a brief description on prediction analysis methods to prove the home energy production and energy consumption, here the author has considered individual devices usage of energy, doing so we have seen a lot missing values in the first review document in which Led lights consumption had lot of values as blank which had to be filled by doing a missing data analysis."
   ]
  },
  {
   "cell_type": "markdown",
   "metadata": {},
   "source": [
    "### <u>Prediction with different Predictors </u>"
   ]
  },
  {
   "cell_type": "markdown",
   "metadata": {},
   "source": [
    "There are various limitations in this article such as the author considered only one house for the study. It could be better if the author used several houses' data for study. As mentioned earlier, the weather station is 12 km far from the house, the data will not be accurate to study. Other things should be keep in mind such as occupants age, no of occupants. To improve the energy prediction, the better sensors accuracy could help. Also, the optimal location of wireless indoor sensors is not mentioned. Also, the occupant's activity information and the measurement of CO2 by wireless sensors could be useful to improve the prediction. The weather data such as solar radiation and precipitation could also be considered. "
   ]
  },
  {
   "cell_type": "markdown",
   "metadata": {},
   "source": [
    "## Prediction with different Predictors"
   ]
  },
  {
   "cell_type": "markdown",
   "metadata": {},
   "source": [
    "The author has done a detailed analysis of which pradictor methods have been considered for analysis, the highlight feature are:<br>\n",
    "1]The 'will always consume'-example<br> \n",
    "2]The 'will never consume '-example<br>\n",
    "3]The ARMA predictor<br>"
   ]
  },
  {
   "cell_type": "markdown",
   "metadata": {},
   "source": [
    "## Improving the prediction precision:"
   ]
  },
  {
   "cell_type": "markdown",
   "metadata": {},
   "source": [
    "The segmentation parmeter is a major influencer in creating the proper data set for \"training and testing\". The author has considered various time aspects which includes like time of the week, month of the year but the dataset is small enough. "
   ]
  },
  {
   "cell_type": "markdown",
   "metadata": {},
   "source": [
    "# Conclusion "
   ]
  },
  {
   "cell_type": "markdown",
   "metadata": {},
   "source": [
    "Forcasting for residential homes after getiing data of individual cannot be done with absolute precision as accurate daat for the same is not given"
   ]
  },
  {
   "cell_type": "code",
   "execution_count": null,
   "metadata": {},
   "outputs": [],
   "source": []
  }
 ],
 "metadata": {
  "kernelspec": {
   "display_name": "Python 3",
   "language": "python",
   "name": "python3"
  },
  "language_info": {
   "codemirror_mode": {
    "name": "ipython",
    "version": 3
   },
   "file_extension": ".py",
   "mimetype": "text/x-python",
   "name": "python",
   "nbconvert_exporter": "python",
   "pygments_lexer": "ipython3",
   "version": "3.6.3"
  }
 },
 "nbformat": 4,
 "nbformat_minor": 2
}
