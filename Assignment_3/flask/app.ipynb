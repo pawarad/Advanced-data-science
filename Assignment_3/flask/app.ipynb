{
 "cells": [
  {
   "cell_type": "code",
   "execution_count": 8,
   "metadata": {},
   "outputs": [
    {
     "name": "stderr",
     "output_type": "stream",
     "text": [
      "python: can't open file 'setup.py': [Errno 2] No such file or directory\n"
     ]
    }
   ],
   "source": [
    "\\"
   ]
  },
  {
   "cell_type": "code",
   "execution_count": null,
   "metadata": {},
   "outputs": [],
   "source": []
  }
 ],
 "metadata": {
  "kernelspec": {
   "display_name": "Python 3",
   "language": "python",
   "name": "python3"
  },
  "language_info": {
   "codemirror_mode": {
    "name": "ipython",
    "version": 3
   },
   "file_extension": ".py",
   "mimetype": "text/x-python",
   "name": "python",
   "nbconvert_exporter": "python",
   "pygments_lexer": "ipython3",
   "version": "3.6.3"
  }
 },
 "nbformat": 4,
 "nbformat_minor": 2
}

uploaded_file = request.files["filename"]
	if uploaded_file:
		filename = secure_filename(str(time.time()) + uploaded_file.filename)
		dir_name = 'uploads/'
		if not os.path.exists(dir_name):
			os.makedirs(dir_name)
		file_path = os.path.join(dir_name, filename)
		uploaded_file.save(file_path)
		transfer = S3Transfer(boto3.client('s3',  cg.AWS_REGION, aws_access_key_id=cg.S3_KEY,aws_secret_access_key=cg.S3_SECRET_ACCESS_KEY))
		transfer.upload_file(file_path, cg.S3_BUCKET, file_path)
	return render_template("upload_csv.html")